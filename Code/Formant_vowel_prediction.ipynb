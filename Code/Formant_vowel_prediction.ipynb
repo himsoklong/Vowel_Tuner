{
 "cells": [
  {
   "cell_type": "code",
   "execution_count": 1,
   "id": "1e37f14d",
   "metadata": {},
   "outputs": [],
   "source": [
    "import numpy as np\n",
    "import pandas as pd\n",
    "from scipy.spatial.distance import pdist"
   ]
  },
  {
   "cell_type": "code",
   "execution_count": 108,
   "id": "7e7041bb",
   "metadata": {},
   "outputs": [
    {
     "data": {
      "text/html": [
       "<div>\n",
       "<style scoped>\n",
       "    .dataframe tbody tr th:only-of-type {\n",
       "        vertical-align: middle;\n",
       "    }\n",
       "\n",
       "    .dataframe tbody tr th {\n",
       "        vertical-align: top;\n",
       "    }\n",
       "\n",
       "    .dataframe thead th {\n",
       "        text-align: right;\n",
       "    }\n",
       "</style>\n",
       "<table border=\"1\" class=\"dataframe\">\n",
       "  <thead>\n",
       "    <tr style=\"text-align: right;\">\n",
       "      <th></th>\n",
       "      <th>vowel</th>\n",
       "      <th>F1</th>\n",
       "      <th>F2</th>\n",
       "      <th>F3</th>\n",
       "      <th>F4</th>\n",
       "      <th>F1sd</th>\n",
       "      <th>F2sd</th>\n",
       "      <th>F3sd</th>\n",
       "      <th>F4sd</th>\n",
       "    </tr>\n",
       "  </thead>\n",
       "  <tbody>\n",
       "    <tr>\n",
       "      <th>0</th>\n",
       "      <td>[i]</td>\n",
       "      <td>273</td>\n",
       "      <td>2524</td>\n",
       "      <td>3787</td>\n",
       "      <td>4428</td>\n",
       "      <td>25</td>\n",
       "      <td>271</td>\n",
       "      <td>227.00</td>\n",
       "      <td>195.0</td>\n",
       "    </tr>\n",
       "    <tr>\n",
       "      <th>1</th>\n",
       "      <td>[y]</td>\n",
       "      <td>273</td>\n",
       "      <td>2037</td>\n",
       "      <td>2460</td>\n",
       "      <td>3060</td>\n",
       "      <td>25</td>\n",
       "      <td>125</td>\n",
       "      <td>190.00</td>\n",
       "      <td>153.0</td>\n",
       "    </tr>\n",
       "    <tr>\n",
       "      <th>2</th>\n",
       "      <td>[e]</td>\n",
       "      <td>400</td>\n",
       "      <td>2504</td>\n",
       "      <td>3364</td>\n",
       "      <td>3340</td>\n",
       "      <td>40</td>\n",
       "      <td>205</td>\n",
       "      <td>165.00</td>\n",
       "      <td>167.0</td>\n",
       "    </tr>\n",
       "    <tr>\n",
       "      <th>3</th>\n",
       "      <td>[2]</td>\n",
       "      <td>400</td>\n",
       "      <td>1571</td>\n",
       "      <td>2645</td>\n",
       "      <td>3170</td>\n",
       "      <td>35</td>\n",
       "      <td>127</td>\n",
       "      <td>173.00</td>\n",
       "      <td>158.5</td>\n",
       "    </tr>\n",
       "    <tr>\n",
       "      <th>4</th>\n",
       "      <td>[E]</td>\n",
       "      <td>624</td>\n",
       "      <td>2244</td>\n",
       "      <td>3066</td>\n",
       "      <td>3480</td>\n",
       "      <td>50</td>\n",
       "      <td>136</td>\n",
       "      <td>165.00</td>\n",
       "      <td>174.0</td>\n",
       "    </tr>\n",
       "    <tr>\n",
       "      <th>5</th>\n",
       "      <td>[9]</td>\n",
       "      <td>585</td>\n",
       "      <td>1579</td>\n",
       "      <td>2751</td>\n",
       "      <td>3310</td>\n",
       "      <td>72</td>\n",
       "      <td>154</td>\n",
       "      <td>229.00</td>\n",
       "      <td>165.5</td>\n",
       "    </tr>\n",
       "    <tr>\n",
       "      <th>6</th>\n",
       "      <td>[a]</td>\n",
       "      <td>805</td>\n",
       "      <td>1301</td>\n",
       "      <td>2832</td>\n",
       "      <td>3280</td>\n",
       "      <td>130</td>\n",
       "      <td>178</td>\n",
       "      <td>167.00</td>\n",
       "      <td>164.0</td>\n",
       "    </tr>\n",
       "    <tr>\n",
       "      <th>7</th>\n",
       "      <td>[u]</td>\n",
       "      <td>288</td>\n",
       "      <td>770</td>\n",
       "      <td>2300</td>\n",
       "      <td>3080</td>\n",
       "      <td>28</td>\n",
       "      <td>70</td>\n",
       "      <td>149.50</td>\n",
       "      <td>154.0</td>\n",
       "    </tr>\n",
       "    <tr>\n",
       "      <th>8</th>\n",
       "      <td>[o]</td>\n",
       "      <td>417</td>\n",
       "      <td>791</td>\n",
       "      <td>2530</td>\n",
       "      <td>3200</td>\n",
       "      <td>36</td>\n",
       "      <td>80</td>\n",
       "      <td>164.45</td>\n",
       "      <td>160.0</td>\n",
       "    </tr>\n",
       "    <tr>\n",
       "      <th>9</th>\n",
       "      <td>[O]</td>\n",
       "      <td>577</td>\n",
       "      <td>1063</td>\n",
       "      <td>2510</td>\n",
       "      <td>3310</td>\n",
       "      <td>80</td>\n",
       "      <td>89</td>\n",
       "      <td>163.15</td>\n",
       "      <td>165.5</td>\n",
       "    </tr>\n",
       "  </tbody>\n",
       "</table>\n",
       "</div>"
      ],
      "text/plain": [
       "  vowel   F1    F2    F3    F4  F1sd  F2sd    F3sd   F4sd\n",
       "0   [i]  273  2524  3787  4428    25   271  227.00  195.0\n",
       "1   [y]  273  2037  2460  3060    25   125  190.00  153.0\n",
       "2   [e]  400  2504  3364  3340    40   205  165.00  167.0\n",
       "3   [2]  400  1571  2645  3170    35   127  173.00  158.5\n",
       "4   [E]  624  2244  3066  3480    50   136  165.00  174.0\n",
       "5   [9]  585  1579  2751  3310    72   154  229.00  165.5\n",
       "6   [a]  805  1301  2832  3280   130   178  167.00  164.0\n",
       "7   [u]  288   770  2300  3080    28    70  149.50  154.0\n",
       "8   [o]  417   791  2530  3200    36    80  164.45  160.0\n",
       "9   [O]  577  1063  2510  3310    80    89  163.15  165.5"
      ]
     },
     "execution_count": 108,
     "metadata": {},
     "output_type": "execute_result"
    }
   ],
   "source": [
    "def sd_replace(x):\n",
    "    if pd.isnull(x['F3sd']):\n",
    "        x['F3sd'] = x['F3'] * 0.065\n",
    "    if pd.isnull(x['F4sd']):\n",
    "        x['F4sd'] = x['F4'] * 0.05\n",
    "    return x\n",
    "\n",
    "data = pd.read_csv('vowel_formants_paillereau.txt', header = 0, sep=' ')\n",
    "data.apply(sd_replace, axis=1)"
   ]
  },
  {
   "cell_type": "code",
   "execution_count": 6,
   "id": "ac098651",
   "metadata": {},
   "outputs": [
    {
     "data": {
      "text/plain": [
       "[220, 2260, 2980]"
      ]
     },
     "execution_count": 6,
     "metadata": {},
     "output_type": "execute_result"
    }
   ],
   "source": [
    "#We define a formant value for our input\n",
    "F1=220#590\n",
    "F2=2260#1780\n",
    "F3=2980\n",
    "input_formant=[F1,F2,F3]\n",
    "input_formant"
   ]
  },
  {
   "cell_type": "code",
   "execution_count": 109,
   "id": "52133b39",
   "metadata": {},
   "outputs": [],
   "source": [
    "def vowel_prediction(input_formant, data, disp=False, formants=3):\n",
    "    \n",
    "    list_distances=[]\n",
    "    \n",
    "    for i in range(len(data)):\n",
    "        data_iloc = []\n",
    "        for j in range(1, formants + 1):\n",
    "            data_iloc.append(data.iloc[i]['F' + str(j)])\n",
    "        distance=pdist((input_formant, data_iloc), metric='euclidean')  \n",
    "        #here we got the value of the array\n",
    "        list_distances.append(distance[0])\n",
    "   \n",
    "    \n",
    "    #print(list_distances)\n",
    "\n",
    "    min_distance=min(list_distances)\n",
    "    vowel_index=list_distances.index(min_distance)\n",
    "    vowel=data.iloc[vowel_index]['vowel']\n",
    "    \n",
    "    if disp:\n",
    "        print('The vowel predicted is ',vowel)\n",
    "        print('Its minimun distance is ', min_distance)\n",
    "    \n",
    "    return vowel, min_distance\n"
   ]
  },
  {
   "cell_type": "markdown",
   "id": "e2613101",
   "metadata": {},
   "source": [
    "We test the function created:"
   ]
  },
  {
   "cell_type": "code",
   "execution_count": 110,
   "id": "d835b150",
   "metadata": {},
   "outputs": [
    {
     "data": {
      "text/plain": [
       "('[E]', 413.36182697486714)"
      ]
     },
     "execution_count": 110,
     "metadata": {},
     "output_type": "execute_result"
    }
   ],
   "source": [
    "vowel_prediction(input_formant, data)"
   ]
  },
  {
   "cell_type": "code",
   "execution_count": 113,
   "id": "c1f6ff07",
   "metadata": {},
   "outputs": [
    {
     "data": {
      "text/plain": [
       "('[i]', 3.094169741697417)"
      ]
     },
     "execution_count": 113,
     "metadata": {},
     "output_type": "execute_result"
    }
   ],
   "source": [
    "def vowel_prediction_sd(input_formant, data, formants=2):\n",
    "    list_distances=[]\n",
    "    \n",
    "    fdist = abs(data['F1'] - input_formant[0])/data['F1sd']\n",
    "    fdist += abs(data['F2'] - input_formant[1])/data['F2sd']\n",
    "    if formants > 2:\n",
    "        fdist += abs(data['F3'] - input_formant[1])/data['F2sd']\n",
    "    if formants > 3:\n",
    "        fdist += abs(data['F4'] - input_formant[1])/data['F2sd']\n",
    "    df = pd.concat([data['vowel'], fdist], axis=1)\n",
    "    min_vowel = df.loc[df[0].idxmin()].to_dict()\n",
    "    return min_vowel['vowel'], min_vowel[0]\n",
    "\n",
    "vowel_prediction_sd(input_formant, data)"
   ]
  },
  {
   "cell_type": "code",
   "execution_count": null,
   "id": "54ccf4ee",
   "metadata": {},
   "outputs": [],
   "source": []
  }
 ],
 "metadata": {
  "kernelspec": {
   "display_name": "Python 3 (ipykernel)",
   "language": "python",
   "name": "python3"
  },
  "language_info": {
   "codemirror_mode": {
    "name": "ipython",
    "version": 3
   },
   "file_extension": ".py",
   "mimetype": "text/x-python",
   "name": "python",
   "nbconvert_exporter": "python",
   "pygments_lexer": "ipython3",
   "version": "3.10.6"
  }
 },
 "nbformat": 4,
 "nbformat_minor": 5
}
