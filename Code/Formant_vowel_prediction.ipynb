{
 "cells": [
  {
   "cell_type": "code",
   "execution_count": 1,
   "id": "1e37f14d",
   "metadata": {},
   "outputs": [],
   "source": [
    "import numpy as np\n",
    "import pandas as pd\n",
    "from scipy.spatial.distance import pdist"
   ]
  },
  {
   "cell_type": "code",
   "execution_count": 2,
   "id": "7e7041bb",
   "metadata": {},
   "outputs": [
    {
     "data": {
      "text/html": [
       "<div>\n",
       "<style scoped>\n",
       "    .dataframe tbody tr th:only-of-type {\n",
       "        vertical-align: middle;\n",
       "    }\n",
       "\n",
       "    .dataframe tbody tr th {\n",
       "        vertical-align: top;\n",
       "    }\n",
       "\n",
       "    .dataframe thead th {\n",
       "        text-align: right;\n",
       "    }\n",
       "</style>\n",
       "<table border=\"1\" class=\"dataframe\">\n",
       "  <thead>\n",
       "    <tr style=\"text-align: right;\">\n",
       "      <th></th>\n",
       "      <th>vowel</th>\n",
       "      <th>F1</th>\n",
       "      <th>F2</th>\n",
       "      <th>F3</th>\n",
       "      <th>F4</th>\n",
       "    </tr>\n",
       "  </thead>\n",
       "  <tbody>\n",
       "    <tr>\n",
       "      <th>0</th>\n",
       "      <td>[i]</td>\n",
       "      <td>250</td>\n",
       "      <td>2250</td>\n",
       "      <td>2980</td>\n",
       "      <td>3280</td>\n",
       "    </tr>\n",
       "    <tr>\n",
       "      <th>1</th>\n",
       "      <td>[e]</td>\n",
       "      <td>420</td>\n",
       "      <td>2050</td>\n",
       "      <td>2630</td>\n",
       "      <td>3340</td>\n",
       "    </tr>\n",
       "    <tr>\n",
       "      <th>2</th>\n",
       "      <td>[E]</td>\n",
       "      <td>590</td>\n",
       "      <td>1770</td>\n",
       "      <td>2580</td>\n",
       "      <td>3480</td>\n",
       "    </tr>\n",
       "    <tr>\n",
       "      <th>3</th>\n",
       "      <td>[a]</td>\n",
       "      <td>760</td>\n",
       "      <td>1450</td>\n",
       "      <td>2590</td>\n",
       "      <td>3280</td>\n",
       "    </tr>\n",
       "    <tr>\n",
       "      <th>4</th>\n",
       "      <td>[u]</td>\n",
       "      <td>290</td>\n",
       "      <td>750</td>\n",
       "      <td>2300</td>\n",
       "      <td>3080</td>\n",
       "    </tr>\n",
       "    <tr>\n",
       "      <th>5</th>\n",
       "      <td>[o]</td>\n",
       "      <td>360</td>\n",
       "      <td>770</td>\n",
       "      <td>2530</td>\n",
       "      <td>3200</td>\n",
       "    </tr>\n",
       "    <tr>\n",
       "      <th>6</th>\n",
       "      <td>[O]</td>\n",
       "      <td>520</td>\n",
       "      <td>1070</td>\n",
       "      <td>2510</td>\n",
       "      <td>3310</td>\n",
       "    </tr>\n",
       "    <tr>\n",
       "      <th>7</th>\n",
       "      <td>[A]</td>\n",
       "      <td>710</td>\n",
       "      <td>1230</td>\n",
       "      <td>2700</td>\n",
       "      <td>3700</td>\n",
       "    </tr>\n",
       "    <tr>\n",
       "      <th>8</th>\n",
       "      <td>[y]</td>\n",
       "      <td>250</td>\n",
       "      <td>1750</td>\n",
       "      <td>2160</td>\n",
       "      <td>3060</td>\n",
       "    </tr>\n",
       "    <tr>\n",
       "      <th>9</th>\n",
       "      <td>[2]</td>\n",
       "      <td>350</td>\n",
       "      <td>1350</td>\n",
       "      <td>2250</td>\n",
       "      <td>3170</td>\n",
       "    </tr>\n",
       "    <tr>\n",
       "      <th>10</th>\n",
       "      <td>[9]</td>\n",
       "      <td>500</td>\n",
       "      <td>1330</td>\n",
       "      <td>2370</td>\n",
       "      <td>3310</td>\n",
       "    </tr>\n",
       "    <tr>\n",
       "      <th>11</th>\n",
       "      <td>[@]</td>\n",
       "      <td>570</td>\n",
       "      <td>1560</td>\n",
       "      <td>2560</td>\n",
       "      <td>3450</td>\n",
       "    </tr>\n",
       "  </tbody>\n",
       "</table>\n",
       "</div>"
      ],
      "text/plain": [
       "   vowel   F1    F2    F3    F4\n",
       "0    [i]  250  2250  2980  3280\n",
       "1    [e]  420  2050  2630  3340\n",
       "2    [E]  590  1770  2580  3480\n",
       "3    [a]  760  1450  2590  3280\n",
       "4    [u]  290   750  2300  3080\n",
       "5    [o]  360   770  2530  3200\n",
       "6    [O]  520  1070  2510  3310\n",
       "7    [A]  710  1230  2700  3700\n",
       "8    [y]  250  1750  2160  3060\n",
       "9    [2]  350  1350  2250  3170\n",
       "10   [9]  500  1330  2370  3310\n",
       "11   [@]  570  1560  2560  3450"
      ]
     },
     "execution_count": 2,
     "metadata": {},
     "output_type": "execute_result"
    }
   ],
   "source": [
    "data = pd.read_csv('vowel_formants.txt', header = 0, sep=' ')\n",
    "data"
   ]
  },
  {
   "cell_type": "code",
   "execution_count": 3,
   "id": "ac098651",
   "metadata": {},
   "outputs": [
    {
     "data": {
      "text/plain": [
       "[220, 2260, 2980]"
      ]
     },
     "execution_count": 3,
     "metadata": {},
     "output_type": "execute_result"
    }
   ],
   "source": [
    "#We define a formant value for our input\n",
    "F1=220#590\n",
    "F2=2260#1780\n",
    "F3=2980\n",
    "input_formant=[F1,F2,F3]\n",
    "input_formant"
   ]
  },
  {
   "cell_type": "code",
   "execution_count": 3,
   "id": "52133b39",
   "metadata": {},
   "outputs": [],
   "source": [
    "def vowel_prediction(input_formant, data, disp=False):\n",
    "    \n",
    "    list_distances=[]\n",
    "    \n",
    "    for i in range(len(data)):\n",
    "    \n",
    "        distance=pdist((input_formant,[data.iloc[i]['F1'],data.iloc[i]['F2'],data.iloc[i]['F3']]), metric='euclidean')  \n",
    "        #here we got the value of the array\n",
    "        list_distances.append(distance[0])\n",
    "   \n",
    "    \n",
    "    #print(list_distances)\n",
    "\n",
    "    min_distance=min(list_distances)\n",
    "    vowel_index=list_distances.index(min_distance)\n",
    "    vowel=data.iloc[vowel_index]['vowel']\n",
    "    \n",
    "    if disp:\n",
    "        print('The vowel predicted is ',vowel)\n",
    "        print('Its minimun distance is ', min_distance)\n",
    "    \n",
    "    return vowel, min_distance\n"
   ]
  },
  {
   "cell_type": "markdown",
   "id": "e2613101",
   "metadata": {},
   "source": [
    "We test the function created:"
   ]
  },
  {
   "cell_type": "code",
   "execution_count": 5,
   "id": "d835b150",
   "metadata": {},
   "outputs": [
    {
     "name": "stdout",
     "output_type": "stream",
     "text": [
      "The vowel predicted is  [i]\n",
      "Its minimun distance is  31.622776601683793\n"
     ]
    },
    {
     "data": {
      "text/plain": [
       "('[i]', 31.622776601683793)"
      ]
     },
     "execution_count": 5,
     "metadata": {},
     "output_type": "execute_result"
    }
   ],
   "source": [
    "vowel_prediction(input_formant, data)"
   ]
  },
  {
   "cell_type": "code",
   "execution_count": null,
   "id": "8340057d",
   "metadata": {},
   "outputs": [],
   "source": []
  }
 ],
 "metadata": {
  "kernelspec": {
   "display_name": "Python 3 (ipykernel)",
   "language": "python",
   "name": "python3"
  },
  "language_info": {
   "codemirror_mode": {
    "name": "ipython",
    "version": 3
   },
   "file_extension": ".py",
   "mimetype": "text/x-python",
   "name": "python",
   "nbconvert_exporter": "python",
   "pygments_lexer": "ipython3",
   "version": "3.10.6"
  }
 },
 "nbformat": 4,
 "nbformat_minor": 5
}
