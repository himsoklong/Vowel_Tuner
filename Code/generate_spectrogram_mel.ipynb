{
 "cells": [
  {
   "cell_type": "code",
   "execution_count": 4,
   "id": "95fcec79",
   "metadata": {},
   "outputs": [],
   "source": [
    "import librosa\n",
    "import librosa.display\n",
    "import matplotlib.pyplot as plt\n",
    "import numpy as np\n",
    "import os\n",
    "\n",
    "from tqdm import tqdm"
   ]
  },
  {
   "cell_type": "code",
   "execution_count": 7,
   "id": "7de4f35e",
   "metadata": {},
   "outputs": [],
   "source": [
    "folder = '../../allwavs/allvowl/'#extracted'\n",
    "files = os.listdir(folder)"
   ]
  },
  {
   "cell_type": "code",
   "execution_count": 9,
   "id": "45b18e82",
   "metadata": {
    "scrolled": true
   },
   "outputs": [
    {
     "name": "stderr",
     "output_type": "stream",
     "text": [
      "100%|████████████████████████████████████████████████████████████████████████████████████████████████████████| 1756/1756 [03:03<00:00,  9.57it/s]\n"
     ]
    }
   ],
   "source": [
    "n_fft = 512\n",
    "hop_length = 512\n",
    "\n",
    "for file in tqdm(files):\n",
    "    if file == 'img' or file == 'trimmed':\n",
    "        continue\n",
    "    y, sr = librosa.load(folder + '/' + file)\n",
    "    audio_file, _ = librosa.effects.trim(y)\n",
    "    \n",
    "    duration = librosa.get_duration(filename=folder + '/' + file)\n",
    "\n",
    "    D = np.abs(librosa.stft(audio_file, n_fft=n_fft, hop_length=hop_length))\n",
    "    DB = librosa.amplitude_to_db(D, ref=np.max)\n",
    "    fig = plt.figure(figsize=(20*duration, 5))\n",
    "    librosa.display.specshow(DB, sr=sr, hop_length=hop_length, x_axis='time', y_axis='log', cmap='binary')\n",
    "    plt.axis('off')\n",
    "    fig.savefig(folder + '/img/' + file.replace('.wav', '.png'), bbox_inches='tight', pad_inches=0)\n",
    "    \n",
    "    fig = plt.figure(figsize=(20*duration, 5))\n",
    "    S = librosa.feature.melspectrogram(y=audio_file, sr=sr, n_fft=n_fft, hop_length=hop_length)\n",
    "    S_DB = librosa.amplitude_to_db(S, ref=np.max)\n",
    "    librosa.display.specshow(S_DB, sr=sr, hop_length=hop_length, x_axis='time', y_axis='log', cmap='binary');\n",
    "    plt.axis('off')\n",
    "    fig.savefig(folder + '/img/' + file.replace('.wav', '__mel.png'), bbox_inches='tight', pad_inches=0)\n",
    "    \n",
    "    plt.close('all')"
   ]
  },
  {
   "cell_type": "code",
   "execution_count": null,
   "id": "95d82c8a",
   "metadata": {},
   "outputs": [],
   "source": []
  }
 ],
 "metadata": {
  "kernelspec": {
   "display_name": "Lambda Notebook (Python 3)",
   "language": "python",
   "name": "lambda-notebook"
  },
  "language_info": {
   "codemirror_mode": {
    "name": "ipython",
    "version": 3
   },
   "file_extension": ".py",
   "mimetype": "text/x-python",
   "name": "python",
   "nbconvert_exporter": "python",
   "pygments_lexer": "ipython3",
   "version": "3.10.6"
  }
 },
 "nbformat": 4,
 "nbformat_minor": 5
}
