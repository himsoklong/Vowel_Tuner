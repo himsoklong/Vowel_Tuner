{
 "cells": [
  {
   "cell_type": "markdown",
   "id": "6e1a775d",
   "metadata": {},
   "source": [
    "## Run once"
   ]
  },
  {
   "cell_type": "code",
   "execution_count": 82,
   "id": "159c05fc",
   "metadata": {},
   "outputs": [],
   "source": [
    "import contextlib\n",
    "import ipynb.fs\n",
    "import math\n",
    "import numpy as np\n",
    "import wave\n",
    "\n",
    "from .defs.extract_formant import extract_formant\n",
    "from joblib import load\n",
    "\n",
    "clf = load('../models/rule_based.joblib') # The classifier\n",
    "scaler = load('../models/scaler.joblib') # The scaler, transforms formants so that they have a mean of 0 and a variance of 1"
   ]
  },
  {
   "cell_type": "markdown",
   "id": "e0b2f7e9",
   "metadata": {},
   "source": [
    "## Run once per file (config)"
   ]
  },
  {
   "cell_type": "code",
   "execution_count": 98,
   "id": "883d810d",
   "metadata": {},
   "outputs": [],
   "source": [
    "input_file = '../../allwavs/allvowl/corrected/extracted/trimmed/o__f__0.14000__0.22000__m_o__mot__hzc1_mono.wav'\n",
    "target_vowel = 'o' # Possible values: 'a', 'e', 'E', 'i', 'o', 'O', 'u', 'y', '2', '9'\n",
    "speaker_gender = 'm' # Possible values: 'f' or 'm'\n",
    "previous_phoneme = 'm' # Possible values: 'l', 'm', 'p', 's', 't' or 't1' (last one shouldn't be used)"
   ]
  },
  {
   "cell_type": "markdown",
   "id": "59385651",
   "metadata": {},
   "source": [
    "## Run once per file (inference)"
   ]
  },
  {
   "cell_type": "code",
   "execution_count": 99,
   "id": "cf01e973",
   "metadata": {},
   "outputs": [
    {
     "name": "stdout",
     "output_type": "stream",
     "text": [
      "Vowel  Confidence\n",
      "-------------------------\n",
      "2      0.002 \n",
      "9      0.000 \n",
      "a      0.000 \n",
      "e      0.002 \n",
      "E      0.000 \n",
      "i      0.000 \n",
      "O      0.002 \n",
      "o      0.644 ================================================================\n",
      "u      0.348 ==================================\n",
      "y      0.002 \n",
      "Prediction: /o/, confidence: 0.644\n"
     ]
    }
   ],
   "source": [
    "idx2key = ['2', '9', 'a', 'a~', 'e', 'E', 'i', 'O', 'o', 'o~', 'u', 'U~+', 'y'] # All possible vowels\n",
    "valid = [0, 1, 2, 4, 5, 6, 7, 8, 10, 12] # Vowels we consider here (depends on the classifier)\n",
    "\n",
    "with contextlib.closing(wave.open(input_file, 'r')) as f: # Open file\n",
    "    frames = f.getnframes()\n",
    "    rate = f.getframerate()\n",
    "    duration = frames / float(rate)\n",
    "    \n",
    "    # Extract formants\n",
    "    try:\n",
    "        formants = extract_formant(input_file, start_time=0, end_time=duration, f0min=math.ceil(3/duration + 0.000001), n_formants=4)\n",
    "    except ZeroDivisionError:\n",
    "        print('The file is too short to analyze!')\n",
    "    \n",
    "    # Add additional features (gender, previous phoneme)\n",
    "    features = formants\n",
    "    features.append(speaker_gender == 'f')\n",
    "    for prev in 'lmpst':\n",
    "        features.append(previous_phoneme == prev)\n",
    "    features.append(previous_phoneme == 't1')\n",
    "    \n",
    "    # Rescale formants\n",
    "    features[:4] = scaler.transform(np.array(features[:4]).reshape(1, -1))[0]\n",
    "    \n",
    "    # Prediction with probabilities\n",
    "    pred = clf.predict_proba([features]) # Probabilities\n",
    "    final_vowel = np.argmax(pred)\n",
    "    final_confidence = pred[0][final_vowel] # Best score\n",
    "    final_vowel = idx2key[valid[final_vowel]] # Actual prediction\n",
    "    \n",
    "    print('Vowel ', 'Confidence')\n",
    "    print('-'*25)\n",
    "    for i in range(len(valid)):\n",
    "        vowel = idx2key[valid[i]]\n",
    "        print(f'{vowel:<6} {pred[0][i]:.3f}', '='*int(pred[0][i]*100))\n",
    "\n",
    "    print(f'Prediction: /{final_vowel}/, confidence: {final_confidence:.3f}')"
   ]
  },
  {
   "cell_type": "code",
   "execution_count": null,
   "id": "fd2d36d3",
   "metadata": {},
   "outputs": [],
   "source": []
  }
 ],
 "metadata": {
  "kernelspec": {
   "display_name": "Lambda Notebook (Python 3)",
   "language": "python",
   "name": "lambda-notebook"
  },
  "language_info": {
   "codemirror_mode": {
    "name": "ipython",
    "version": 3
   },
   "file_extension": ".py",
   "mimetype": "text/x-python",
   "name": "python",
   "nbconvert_exporter": "python",
   "pygments_lexer": "ipython3",
   "version": "3.10.6"
  }
 },
 "nbformat": 4,
 "nbformat_minor": 5
}
