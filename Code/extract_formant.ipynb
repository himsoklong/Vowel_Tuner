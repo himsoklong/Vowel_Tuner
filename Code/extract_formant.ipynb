{
 "cells": [
  {
   "cell_type": "code",
   "execution_count": 57,
   "id": "3df15d7f",
   "metadata": {
    "ExecuteTime": {
     "end_time": "2022-11-05T16:00:46.853327Z",
     "start_time": "2022-11-05T16:00:46.759384Z"
    }
   },
   "outputs": [],
   "source": [
    "import math\n",
    "import parselmouth \n",
    "from parselmouth import praat"
   ]
  },
  {
   "cell_type": "code",
   "execution_count": 63,
   "id": "6053a210",
   "metadata": {
    "ExecuteTime": {
     "end_time": "2022-11-05T16:00:47.972573Z",
     "start_time": "2022-11-05T16:00:47.931057Z"
    }
   },
   "outputs": [],
   "source": [
    "def extract_formant(filepath, start_time=0, end_time=1, f0min=75, f0max=300, n_formants=4):\n",
    "    sound = parselmouth.Sound(filepath)\n",
    "    pointProcess = praat.call(sound, \"To PointProcess (periodic, cc)\", f0min, f0max)\n",
    "    formants = praat.call(sound, \"To Formant (burg)\", 0, n_formants+1, 5000, 0.025, 50)\n",
    "    numPoints = praat.call(pointProcess, \"Get number of points\")\n",
    "    f_lists = [[] for i in range(n_formants)]\n",
    "    for point in range(1, numPoints + 1):\n",
    "        t = praat.call(pointProcess, \"Get time from index\", point)\n",
    "        for i in range(n_formants):\n",
    "            f_lists[i].append(praat.call(formants, \"Get value at time\", i + 1, t, 'Hertz', 'Linear'))\n",
    "            \n",
    "    f_lists = [[x for x in f_list if not math.isnan(x)] for f_list in f_lists]\n",
    "        \n",
    "    #compute the average of formants\n",
    "    out = []\n",
    "    for i in range(n_formants):\n",
    "        out.append(sum(f_lists[i]) / len(f_lists[i]))\n",
    "    \n",
    "    return out"
   ]
  },
  {
   "cell_type": "code",
   "execution_count": 59,
   "id": "18c25692",
   "metadata": {},
   "outputs": [
    {
     "name": "stdout",
     "output_type": "stream",
     "text": [
      "4\n"
     ]
    },
    {
     "ename": "ZeroDivisionError",
     "evalue": "division by zero",
     "output_type": "error",
     "traceback": [
      "\u001b[0;31m---------------------------------------------------------------------------\u001b[0m",
      "\u001b[0;31mZeroDivisionError\u001b[0m                         Traceback (most recent call last)",
      "\u001b[0;32m/tmp/ipykernel_2020/2856161586.py\u001b[0m in \u001b[0;36m<module>\u001b[0;34m\u001b[0m\n\u001b[1;32m     25\u001b[0m \u001b[0;34m\u001b[0m\u001b[0m\n\u001b[1;32m     26\u001b[0m \u001b[0;31m#compute the average of formants\u001b[0m\u001b[0;34m\u001b[0m\u001b[0;34m\u001b[0m\u001b[0m\n\u001b[0;32m---> 27\u001b[0;31m \u001b[0mf1\u001b[0m \u001b[0;34m=\u001b[0m \u001b[0msum\u001b[0m\u001b[0;34m(\u001b[0m\u001b[0mf1_list\u001b[0m\u001b[0;34m)\u001b[0m \u001b[0;34m/\u001b[0m \u001b[0mlen\u001b[0m\u001b[0;34m(\u001b[0m\u001b[0mf1_list\u001b[0m\u001b[0;34m)\u001b[0m\u001b[0;34m\u001b[0m\u001b[0;34m\u001b[0m\u001b[0m\n\u001b[0m\u001b[1;32m     28\u001b[0m \u001b[0mf2\u001b[0m \u001b[0;34m=\u001b[0m \u001b[0msum\u001b[0m\u001b[0;34m(\u001b[0m\u001b[0mf2_list\u001b[0m\u001b[0;34m)\u001b[0m \u001b[0;34m/\u001b[0m \u001b[0mlen\u001b[0m\u001b[0;34m(\u001b[0m\u001b[0mf2_list\u001b[0m\u001b[0;34m)\u001b[0m\u001b[0;34m\u001b[0m\u001b[0;34m\u001b[0m\u001b[0m\n\u001b[1;32m     29\u001b[0m \u001b[0mf3\u001b[0m \u001b[0;34m=\u001b[0m \u001b[0msum\u001b[0m\u001b[0;34m(\u001b[0m\u001b[0mf3_list\u001b[0m\u001b[0;34m)\u001b[0m \u001b[0;34m/\u001b[0m \u001b[0mlen\u001b[0m\u001b[0;34m(\u001b[0m\u001b[0mf3_list\u001b[0m\u001b[0;34m)\u001b[0m\u001b[0;34m\u001b[0m\u001b[0;34m\u001b[0m\u001b[0m\n",
      "\u001b[0;31mZeroDivisionError\u001b[0m: division by zero"
     ]
    }
   ],
   "source": [
    "sound = parselmouth.Sound('../../InterFra/extracted/CIN01BER_bit.wav')\n",
    "pointProcess = praat.call(sound, \"To PointProcess (periodic, cc)\", 70, 300)\n",
    "formants = sound.to_formant_burg()\n",
    "numPoints = praat.call(pointProcess, \"Get number of points\")\n",
    "f1_list = []\n",
    "f2_list = []\n",
    "f3_list = []\n",
    "f4_list = []\n",
    "print(numPoints)\n",
    "for point in range(1, numPoints + 1):\n",
    "    t = praat.call(pointProcess, \"Get time from index\", point)\n",
    "    f1 = praat.call(formants, \"Get value at time\", 1, t, 'Hertz', 'Linear')\n",
    "    f2 = praat.call(formants, \"Get value at time\", 2, t, 'Hertz', 'Linear')\n",
    "    f3 = praat.call(formants, \"Get value at time\", 3, t, 'Hertz', 'Linear')\n",
    "    f4 = praat.call(formants, \"Get value at time\", 4, t, 'Hertz', 'Linear')\n",
    "    f1_list.append(f1)\n",
    "    f2_list.append(f2)\n",
    "    f3_list.append(f3)\n",
    "    f4_list.append(f4)\n",
    "\n",
    "f1_list = [x for x in f1_list if not math.isnan(x)]\n",
    "f2_list = [x for x in f2_list if not math.isnan(x)]\n",
    "f3_list = [x for x in f3_list if not math.isnan(x)]\n",
    "f4_list = [x for x in f4_list if not math.isnan(x)]\n",
    "\n",
    "#compute the average of formants\n",
    "f1 = sum(f1_list) / len(f1_list)\n",
    "f2 = sum(f2_list) / len(f2_list)\n",
    "f3 = sum(f3_list) / len(f3_list)\n",
    "f4 = sum(f4_list) / len(f4_list)\n",
    "#return all formants\n",
    "print(f1, f2, f3, f4)"
   ]
  },
  {
   "cell_type": "code",
   "execution_count": 4,
   "id": "7e177aa4",
   "metadata": {
    "ExecuteTime": {
     "end_time": "2022-11-05T16:00:49.726293Z",
     "start_time": "2022-11-05T16:00:49.712111Z"
    }
   },
   "outputs": [
    {
     "data": {
      "text/plain": [
       "nan"
      ]
     },
     "execution_count": 4,
     "metadata": {},
     "output_type": "execute_result"
    }
   ],
   "source": [
    "f1"
   ]
  },
  {
   "cell_type": "code",
   "execution_count": 5,
   "id": "7e8233c3",
   "metadata": {
    "ExecuteTime": {
     "end_time": "2022-11-05T16:00:50.277110Z",
     "start_time": "2022-11-05T16:00:50.272942Z"
    }
   },
   "outputs": [
    {
     "data": {
      "text/plain": [
       "nan"
      ]
     },
     "execution_count": 5,
     "metadata": {},
     "output_type": "execute_result"
    }
   ],
   "source": [
    "f2"
   ]
  },
  {
   "cell_type": "code",
   "execution_count": 6,
   "id": "1af6bb44",
   "metadata": {
    "ExecuteTime": {
     "end_time": "2022-11-05T16:00:50.743735Z",
     "start_time": "2022-11-05T16:00:50.739374Z"
    }
   },
   "outputs": [
    {
     "data": {
      "text/plain": [
       "nan"
      ]
     },
     "execution_count": 6,
     "metadata": {},
     "output_type": "execute_result"
    }
   ],
   "source": [
    "f3"
   ]
  },
  {
   "cell_type": "code",
   "execution_count": 7,
   "id": "48ed7041",
   "metadata": {
    "ExecuteTime": {
     "end_time": "2022-11-05T16:00:51.256074Z",
     "start_time": "2022-11-05T16:00:51.251503Z"
    }
   },
   "outputs": [
    {
     "data": {
      "text/plain": [
       "nan"
      ]
     },
     "execution_count": 7,
     "metadata": {},
     "output_type": "execute_result"
    }
   ],
   "source": [
    "f4"
   ]
  },
  {
   "cell_type": "code",
   "execution_count": 60,
   "id": "ab3a460b",
   "metadata": {},
   "outputs": [
    {
     "data": {
      "text/plain": [
       "(500.8906784753899, 1930.1513881161054, 2801.9010136659845, 4116.090617659845)"
      ]
     },
     "execution_count": 60,
     "metadata": {},
     "output_type": "execute_result"
    }
   ],
   "source": [
    "extract_formant('../../allwavs/allvowl/extracted/trimmed/2__f__0.06000__0.16000__p_2__peux__agnes2_mono.wav')"
   ]
  },
  {
   "cell_type": "code",
   "execution_count": null,
   "id": "71f51a24",
   "metadata": {},
   "outputs": [],
   "source": []
  }
 ],
 "metadata": {
  "kernelspec": {
   "display_name": "Python 3 (ipykernel)",
   "language": "python",
   "name": "python3"
  },
  "language_info": {
   "codemirror_mode": {
    "name": "ipython",
    "version": 3
   },
   "file_extension": ".py",
   "mimetype": "text/x-python",
   "name": "python",
   "nbconvert_exporter": "python",
   "pygments_lexer": "ipython3",
   "version": "3.10.6"
  },
  "toc": {
   "base_numbering": 1,
   "nav_menu": {},
   "number_sections": true,
   "sideBar": true,
   "skip_h1_title": false,
   "title_cell": "Table of Contents",
   "title_sidebar": "Contents",
   "toc_cell": false,
   "toc_position": {},
   "toc_section_display": true,
   "toc_window_display": false
  }
 },
 "nbformat": 4,
 "nbformat_minor": 5
}
