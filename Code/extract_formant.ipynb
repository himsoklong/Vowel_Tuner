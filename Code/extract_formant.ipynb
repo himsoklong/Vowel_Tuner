{
 "cells": [
  {
   "cell_type": "code",
   "execution_count": 1,
   "id": "53b4b4bd",
   "metadata": {
    "ExecuteTime": {
     "end_time": "2022-11-05T16:00:45.668146Z",
     "start_time": "2022-11-05T16:00:44.613613Z"
    }
   },
   "outputs": [
    {
     "name": "stdout",
     "output_type": "stream",
     "text": [
      "Requirement already satisfied: praat-parselmouth in /Users/himsoklong/miniforge3/envs/DNN/lib/python3.10/site-packages (0.4.1)\n",
      "Requirement already satisfied: numpy>=1.7.0 in /Users/himsoklong/miniforge3/envs/DNN/lib/python3.10/site-packages (from praat-parselmouth) (1.23.1)\n"
     ]
    }
   ],
   "source": [
    "!pip install -U praat-parselmouth"
   ]
  },
  {
   "cell_type": "code",
   "execution_count": 2,
   "id": "3df15d7f",
   "metadata": {
    "ExecuteTime": {
     "end_time": "2022-11-05T16:00:46.853327Z",
     "start_time": "2022-11-05T16:00:46.759384Z"
    }
   },
   "outputs": [],
   "source": [
    "import parselmouth \n",
    "from parselmouth import praat"
   ]
  },
  {
   "cell_type": "code",
   "execution_count": 3,
   "id": "6053a210",
   "metadata": {
    "ExecuteTime": {
     "end_time": "2022-11-05T16:00:47.972573Z",
     "start_time": "2022-11-05T16:00:47.931057Z"
    }
   },
   "outputs": [],
   "source": [
    "def extract_formant(filepath,start_time=0,end_time=1,f0min=75,f0max=300):\n",
    "    sound = parselmouth.Sound(filepath)\n",
    "    pointProcess = praat.call(sound, \"To PointProcess (periodic, cc)\", f0min, f0max)\n",
    "    formants = praat.call(sound, \"To Formant (burg)\", 0.0025, 5, 5000, 0.025, 50)\n",
    "    numPoints = praat.call(pointProcess, \"Get number of points\")\n",
    "    f1_list = []\n",
    "    f2_list = []\n",
    "    f3_list = []\n",
    "    f4_list = []\n",
    "    for point in range(0, numPoints):\n",
    "        point += 1\n",
    "        t = praat.call(pointProcess, \"Get time from index\", point)\n",
    "        f1 = praat.call(formants, \"Get value at time\", 1, t, 'Hertz', 'Linear')\n",
    "        f2 = praat.call(formants, \"Get value at time\", 2, t, 'Hertz', 'Linear')\n",
    "        f3 = praat.call(formants, \"Get value at time\", 3, t, 'Hertz', 'Linear')\n",
    "        f4 = praat.call(formants, \"Get value at time\", 4, t, 'Hertz', 'Linear')\n",
    "        f1_list.append(f1)\n",
    "        f2_list.append(f2)\n",
    "        f3_list.append(f3)\n",
    "        f4_list.append(f4)\n",
    "    #compute the average of formants\n",
    "    f1 = sum(f1_list) / len(f1_list)\n",
    "    f2 = sum(f2_list) / len(f2_list)\n",
    "    f3 = sum(f3_list) / len(f3_list)\n",
    "    f4 = sum(f4_list) / len(f4_list)\n",
    "    #return all formants\n",
    "    return f1,f2,f3,f4"
   ]
  },
  {
   "cell_type": "code",
   "execution_count": 4,
   "id": "9af3d3b2",
   "metadata": {
    "ExecuteTime": {
     "end_time": "2022-11-05T16:00:48.921031Z",
     "start_time": "2022-11-05T16:00:48.843116Z"
    }
   },
   "outputs": [],
   "source": [
    "#example using file 'I.wav'\n",
    "f1,f2,f3,f4 = extract_formant('I.wav')"
   ]
  },
  {
   "cell_type": "code",
   "execution_count": 5,
   "id": "7e177aa4",
   "metadata": {
    "ExecuteTime": {
     "end_time": "2022-11-05T16:00:49.726293Z",
     "start_time": "2022-11-05T16:00:49.712111Z"
    }
   },
   "outputs": [
    {
     "data": {
      "text/plain": [
       "277.6507387807545"
      ]
     },
     "execution_count": 5,
     "metadata": {},
     "output_type": "execute_result"
    }
   ],
   "source": [
    "f1"
   ]
  },
  {
   "cell_type": "code",
   "execution_count": 6,
   "id": "7e8233c3",
   "metadata": {
    "ExecuteTime": {
     "end_time": "2022-11-05T16:00:50.277110Z",
     "start_time": "2022-11-05T16:00:50.272942Z"
    }
   },
   "outputs": [
    {
     "data": {
      "text/plain": [
       "2096.9299900204765"
      ]
     },
     "execution_count": 6,
     "metadata": {},
     "output_type": "execute_result"
    }
   ],
   "source": [
    "f2"
   ]
  },
  {
   "cell_type": "code",
   "execution_count": 7,
   "id": "1af6bb44",
   "metadata": {
    "ExecuteTime": {
     "end_time": "2022-11-05T16:00:50.743735Z",
     "start_time": "2022-11-05T16:00:50.739374Z"
    }
   },
   "outputs": [
    {
     "data": {
      "text/plain": [
       "3062.299829205337"
      ]
     },
     "execution_count": 7,
     "metadata": {},
     "output_type": "execute_result"
    }
   ],
   "source": [
    "f3"
   ]
  },
  {
   "cell_type": "code",
   "execution_count": 8,
   "id": "48ed7041",
   "metadata": {
    "ExecuteTime": {
     "end_time": "2022-11-05T16:00:51.256074Z",
     "start_time": "2022-11-05T16:00:51.251503Z"
    }
   },
   "outputs": [
    {
     "data": {
      "text/plain": [
       "4188.048034767188"
      ]
     },
     "execution_count": 8,
     "metadata": {},
     "output_type": "execute_result"
    }
   ],
   "source": [
    "f4"
   ]
  },
  {
   "cell_type": "code",
   "execution_count": null,
   "id": "ab3a460b",
   "metadata": {},
   "outputs": [],
   "source": []
  }
 ],
 "metadata": {
  "kernelspec": {
   "display_name": "DNN",
   "language": "python",
   "name": "dnn"
  },
  "language_info": {
   "codemirror_mode": {
    "name": "ipython",
    "version": 3
   },
   "file_extension": ".py",
   "mimetype": "text/x-python",
   "name": "python",
   "nbconvert_exporter": "python",
   "pygments_lexer": "ipython3",
   "version": "3.10.5"
  },
  "toc": {
   "base_numbering": 1,
   "nav_menu": {},
   "number_sections": true,
   "sideBar": true,
   "skip_h1_title": false,
   "title_cell": "Table of Contents",
   "title_sidebar": "Contents",
   "toc_cell": false,
   "toc_position": {},
   "toc_section_display": true,
   "toc_window_display": false
  }
 },
 "nbformat": 4,
 "nbformat_minor": 5
}
