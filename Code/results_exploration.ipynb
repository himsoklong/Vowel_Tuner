{
 "cells": [
  {
   "cell_type": "code",
   "execution_count": 136,
   "id": "73ce3951",
   "metadata": {},
   "outputs": [],
   "source": [
    "import matplotlib.pyplot as plt\n",
    "import numpy as np\n",
    "\n",
    "from collections import Counter\n",
    "from sklearn.metrics import classification_report, confusion_matrix, ConfusionMatrixDisplay"
   ]
  },
  {
   "cell_type": "code",
   "execution_count": 1,
   "id": "7100f365",
   "metadata": {},
   "outputs": [
    {
     "data": {
      "text/html": [
       "<div>\n",
       "<style scoped>\n",
       "    .dataframe tbody tr th:only-of-type {\n",
       "        vertical-align: middle;\n",
       "    }\n",
       "\n",
       "    .dataframe tbody tr th {\n",
       "        vertical-align: top;\n",
       "    }\n",
       "\n",
       "    .dataframe thead th {\n",
       "        text-align: right;\n",
       "    }\n",
       "</style>\n",
       "<table border=\"1\" class=\"dataframe\">\n",
       "  <thead>\n",
       "    <tr style=\"text-align: right;\">\n",
       "      <th></th>\n",
       "      <th>Recording</th>\n",
       "      <th>Word</th>\n",
       "      <th>Vowel</th>\n",
       "      <th>NN vowel</th>\n",
       "      <th>LG vowel</th>\n",
       "      <th>Proba LG 2</th>\n",
       "      <th>Proba LG 9</th>\n",
       "      <th>Proba LG a</th>\n",
       "      <th>Proba LG e</th>\n",
       "      <th>Proba LG E</th>\n",
       "      <th>...</th>\n",
       "      <th>Proba NN e</th>\n",
       "      <th>Proba NN E</th>\n",
       "      <th>Proba NN i</th>\n",
       "      <th>Proba NN O</th>\n",
       "      <th>Proba NN o</th>\n",
       "      <th>Proba NN u</th>\n",
       "      <th>Proba NN y</th>\n",
       "      <th>Region</th>\n",
       "      <th>Gender</th>\n",
       "      <th>Person ID</th>\n",
       "    </tr>\n",
       "  </thead>\n",
       "  <tbody>\n",
       "    <tr>\n",
       "      <th>0</th>\n",
       "      <td>0</td>\n",
       "      <td>la</td>\n",
       "      <td>a</td>\n",
       "      <td>a</td>\n",
       "      <td>a</td>\n",
       "      <td>0.0000</td>\n",
       "      <td>0.0005</td>\n",
       "      <td>0.9988</td>\n",
       "      <td>0.0000</td>\n",
       "      <td>0.0000</td>\n",
       "      <td>...</td>\n",
       "      <td>0.0000</td>\n",
       "      <td>0.0050</td>\n",
       "      <td>0.0000</td>\n",
       "      <td>0.1000</td>\n",
       "      <td>0.0025</td>\n",
       "      <td>0.0025</td>\n",
       "      <td>0.0000</td>\n",
       "      <td>Bretagne</td>\n",
       "      <td>M</td>\n",
       "      <td>1</td>\n",
       "    </tr>\n",
       "    <tr>\n",
       "      <th>1</th>\n",
       "      <td>1</td>\n",
       "      <td>mort</td>\n",
       "      <td>O</td>\n",
       "      <td>o</td>\n",
       "      <td>O</td>\n",
       "      <td>0.0000</td>\n",
       "      <td>0.0101</td>\n",
       "      <td>0.0690</td>\n",
       "      <td>0.0000</td>\n",
       "      <td>0.0000</td>\n",
       "      <td>...</td>\n",
       "      <td>0.0000</td>\n",
       "      <td>0.0000</td>\n",
       "      <td>0.0000</td>\n",
       "      <td>0.5775</td>\n",
       "      <td>0.0225</td>\n",
       "      <td>0.0000</td>\n",
       "      <td>0.0000</td>\n",
       "      <td>Bretagne</td>\n",
       "      <td>M</td>\n",
       "      <td>1</td>\n",
       "    </tr>\n",
       "    <tr>\n",
       "      <th>2</th>\n",
       "      <td>2</td>\n",
       "      <td>pu</td>\n",
       "      <td>y</td>\n",
       "      <td>u</td>\n",
       "      <td>y</td>\n",
       "      <td>0.0103</td>\n",
       "      <td>0.0740</td>\n",
       "      <td>0.0007</td>\n",
       "      <td>0.0000</td>\n",
       "      <td>0.0000</td>\n",
       "      <td>...</td>\n",
       "      <td>0.0000</td>\n",
       "      <td>0.0000</td>\n",
       "      <td>0.0125</td>\n",
       "      <td>0.0000</td>\n",
       "      <td>0.0375</td>\n",
       "      <td>0.0250</td>\n",
       "      <td>0.8600</td>\n",
       "      <td>Bretagne</td>\n",
       "      <td>M</td>\n",
       "      <td>1</td>\n",
       "    </tr>\n",
       "    <tr>\n",
       "      <th>3</th>\n",
       "      <td>3</td>\n",
       "      <td>loup</td>\n",
       "      <td>u</td>\n",
       "      <td>u</td>\n",
       "      <td>u</td>\n",
       "      <td>0.0001</td>\n",
       "      <td>0.0174</td>\n",
       "      <td>0.0000</td>\n",
       "      <td>0.0000</td>\n",
       "      <td>0.0000</td>\n",
       "      <td>...</td>\n",
       "      <td>0.0025</td>\n",
       "      <td>0.0000</td>\n",
       "      <td>0.0050</td>\n",
       "      <td>0.0025</td>\n",
       "      <td>0.2225</td>\n",
       "      <td>0.5750</td>\n",
       "      <td>0.1775</td>\n",
       "      <td>Bretagne</td>\n",
       "      <td>M</td>\n",
       "      <td>1</td>\n",
       "    </tr>\n",
       "    <tr>\n",
       "      <th>4</th>\n",
       "      <td>4</td>\n",
       "      <td>l'air</td>\n",
       "      <td>E</td>\n",
       "      <td>e</td>\n",
       "      <td>E</td>\n",
       "      <td>0.0000</td>\n",
       "      <td>0.0000</td>\n",
       "      <td>0.0000</td>\n",
       "      <td>0.9999</td>\n",
       "      <td>0.0001</td>\n",
       "      <td>...</td>\n",
       "      <td>0.3525</td>\n",
       "      <td>0.3875</td>\n",
       "      <td>0.0000</td>\n",
       "      <td>0.0750</td>\n",
       "      <td>0.0000</td>\n",
       "      <td>0.0000</td>\n",
       "      <td>0.0100</td>\n",
       "      <td>Bretagne</td>\n",
       "      <td>M</td>\n",
       "      <td>1</td>\n",
       "    </tr>\n",
       "    <tr>\n",
       "      <th>...</th>\n",
       "      <td>...</td>\n",
       "      <td>...</td>\n",
       "      <td>...</td>\n",
       "      <td>...</td>\n",
       "      <td>...</td>\n",
       "      <td>...</td>\n",
       "      <td>...</td>\n",
       "      <td>...</td>\n",
       "      <td>...</td>\n",
       "      <td>...</td>\n",
       "      <td>...</td>\n",
       "      <td>...</td>\n",
       "      <td>...</td>\n",
       "      <td>...</td>\n",
       "      <td>...</td>\n",
       "      <td>...</td>\n",
       "      <td>...</td>\n",
       "      <td>...</td>\n",
       "      <td>...</td>\n",
       "      <td>...</td>\n",
       "      <td>...</td>\n",
       "    </tr>\n",
       "    <tr>\n",
       "      <th>895</th>\n",
       "      <td>5</td>\n",
       "      <td>tôt</td>\n",
       "      <td>o</td>\n",
       "      <td>o</td>\n",
       "      <td>O</td>\n",
       "      <td>0.0000</td>\n",
       "      <td>0.0000</td>\n",
       "      <td>0.0001</td>\n",
       "      <td>0.0000</td>\n",
       "      <td>0.0000</td>\n",
       "      <td>...</td>\n",
       "      <td>0.0025</td>\n",
       "      <td>0.0075</td>\n",
       "      <td>0.0000</td>\n",
       "      <td>0.6525</td>\n",
       "      <td>0.0775</td>\n",
       "      <td>0.0500</td>\n",
       "      <td>0.0000</td>\n",
       "      <td>Ukraine</td>\n",
       "      <td>F</td>\n",
       "      <td>46</td>\n",
       "    </tr>\n",
       "    <tr>\n",
       "      <th>896</th>\n",
       "      <td>6</td>\n",
       "      <td>meurt</td>\n",
       "      <td>9</td>\n",
       "      <td>o</td>\n",
       "      <td>O</td>\n",
       "      <td>0.0000</td>\n",
       "      <td>0.0005</td>\n",
       "      <td>0.3806</td>\n",
       "      <td>0.0000</td>\n",
       "      <td>0.0000</td>\n",
       "      <td>...</td>\n",
       "      <td>0.0100</td>\n",
       "      <td>0.0050</td>\n",
       "      <td>0.0000</td>\n",
       "      <td>0.5175</td>\n",
       "      <td>0.0050</td>\n",
       "      <td>0.0025</td>\n",
       "      <td>0.0000</td>\n",
       "      <td>Ukraine</td>\n",
       "      <td>F</td>\n",
       "      <td>46</td>\n",
       "    </tr>\n",
       "    <tr>\n",
       "      <th>897</th>\n",
       "      <td>7</td>\n",
       "      <td>se</td>\n",
       "      <td>2</td>\n",
       "      <td>E</td>\n",
       "      <td>a</td>\n",
       "      <td>0.1090</td>\n",
       "      <td>0.2219</td>\n",
       "      <td>0.0145</td>\n",
       "      <td>0.1041</td>\n",
       "      <td>0.3365</td>\n",
       "      <td>...</td>\n",
       "      <td>0.0175</td>\n",
       "      <td>0.0300</td>\n",
       "      <td>0.0000</td>\n",
       "      <td>0.0350</td>\n",
       "      <td>0.0000</td>\n",
       "      <td>0.0000</td>\n",
       "      <td>0.0000</td>\n",
       "      <td>Ukraine</td>\n",
       "      <td>F</td>\n",
       "      <td>46</td>\n",
       "    </tr>\n",
       "    <tr>\n",
       "      <th>898</th>\n",
       "      <td>8</td>\n",
       "      <td>mer</td>\n",
       "      <td>E</td>\n",
       "      <td>a</td>\n",
       "      <td>a</td>\n",
       "      <td>0.0000</td>\n",
       "      <td>0.0000</td>\n",
       "      <td>0.9999</td>\n",
       "      <td>0.0000</td>\n",
       "      <td>0.0000</td>\n",
       "      <td>...</td>\n",
       "      <td>0.0000</td>\n",
       "      <td>0.0000</td>\n",
       "      <td>0.0000</td>\n",
       "      <td>0.4200</td>\n",
       "      <td>0.0150</td>\n",
       "      <td>0.0000</td>\n",
       "      <td>0.0000</td>\n",
       "      <td>Ukraine</td>\n",
       "      <td>F</td>\n",
       "      <td>46</td>\n",
       "    </tr>\n",
       "    <tr>\n",
       "      <th>899</th>\n",
       "      <td>9</td>\n",
       "      <td>pu</td>\n",
       "      <td>y</td>\n",
       "      <td>2</td>\n",
       "      <td>9</td>\n",
       "      <td>0.9983</td>\n",
       "      <td>0.0000</td>\n",
       "      <td>0.0000</td>\n",
       "      <td>0.0000</td>\n",
       "      <td>0.0000</td>\n",
       "      <td>...</td>\n",
       "      <td>0.0100</td>\n",
       "      <td>0.1750</td>\n",
       "      <td>0.0025</td>\n",
       "      <td>0.0300</td>\n",
       "      <td>0.0050</td>\n",
       "      <td>0.0100</td>\n",
       "      <td>0.0025</td>\n",
       "      <td>Ukraine</td>\n",
       "      <td>F</td>\n",
       "      <td>46</td>\n",
       "    </tr>\n",
       "  </tbody>\n",
       "</table>\n",
       "<p>900 rows × 28 columns</p>\n",
       "</div>"
      ],
      "text/plain": [
       "     Recording   Word Vowel NN vowel LG vowel  Proba LG 2  Proba LG 9  \\\n",
       "0            0     la     a        a        a      0.0000      0.0005   \n",
       "1            1   mort     O        o        O      0.0000      0.0101   \n",
       "2            2     pu     y        u        y      0.0103      0.0740   \n",
       "3            3   loup     u        u        u      0.0001      0.0174   \n",
       "4            4  l'air     E        e        E      0.0000      0.0000   \n",
       "..         ...    ...   ...      ...      ...         ...         ...   \n",
       "895          5    tôt     o        o        O      0.0000      0.0000   \n",
       "896          6  meurt     9        o        O      0.0000      0.0005   \n",
       "897          7     se     2        E        a      0.1090      0.2219   \n",
       "898          8    mer     E        a        a      0.0000      0.0000   \n",
       "899          9     pu     y        2        9      0.9983      0.0000   \n",
       "\n",
       "     Proba LG a  Proba LG e  Proba LG E  ...  Proba NN e  Proba NN E  \\\n",
       "0        0.9988      0.0000      0.0000  ...      0.0000      0.0050   \n",
       "1        0.0690      0.0000      0.0000  ...      0.0000      0.0000   \n",
       "2        0.0007      0.0000      0.0000  ...      0.0000      0.0000   \n",
       "3        0.0000      0.0000      0.0000  ...      0.0025      0.0000   \n",
       "4        0.0000      0.9999      0.0001  ...      0.3525      0.3875   \n",
       "..          ...         ...         ...  ...         ...         ...   \n",
       "895      0.0001      0.0000      0.0000  ...      0.0025      0.0075   \n",
       "896      0.3806      0.0000      0.0000  ...      0.0100      0.0050   \n",
       "897      0.0145      0.1041      0.3365  ...      0.0175      0.0300   \n",
       "898      0.9999      0.0000      0.0000  ...      0.0000      0.0000   \n",
       "899      0.0000      0.0000      0.0000  ...      0.0100      0.1750   \n",
       "\n",
       "     Proba NN i  Proba NN O  Proba NN o  Proba NN u  Proba NN y    Region  \\\n",
       "0        0.0000      0.1000      0.0025      0.0025      0.0000  Bretagne   \n",
       "1        0.0000      0.5775      0.0225      0.0000      0.0000  Bretagne   \n",
       "2        0.0125      0.0000      0.0375      0.0250      0.8600  Bretagne   \n",
       "3        0.0050      0.0025      0.2225      0.5750      0.1775  Bretagne   \n",
       "4        0.0000      0.0750      0.0000      0.0000      0.0100  Bretagne   \n",
       "..          ...         ...         ...         ...         ...       ...   \n",
       "895      0.0000      0.6525      0.0775      0.0500      0.0000   Ukraine   \n",
       "896      0.0000      0.5175      0.0050      0.0025      0.0000   Ukraine   \n",
       "897      0.0000      0.0350      0.0000      0.0000      0.0000   Ukraine   \n",
       "898      0.0000      0.4200      0.0150      0.0000      0.0000   Ukraine   \n",
       "899      0.0025      0.0300      0.0050      0.0100      0.0025   Ukraine   \n",
       "\n",
       "     Gender  Person ID  \n",
       "0         M          1  \n",
       "1         M          1  \n",
       "2         M          1  \n",
       "3         M          1  \n",
       "4         M          1  \n",
       "..      ...        ...  \n",
       "895       F         46  \n",
       "896       F         46  \n",
       "897       F         46  \n",
       "898       F         46  \n",
       "899       F         46  \n",
       "\n",
       "[900 rows x 28 columns]"
      ]
     },
     "execution_count": 1,
     "metadata": {},
     "output_type": "execute_result"
    }
   ],
   "source": [
    "import pandas as pd\n",
    "\n",
    "df = pd.read_csv('../results/eval.csv', sep='\\t')\n",
    "df"
   ]
  },
  {
   "cell_type": "code",
   "execution_count": 2,
   "id": "4e2e628a",
   "metadata": {},
   "outputs": [
    {
     "data": {
      "text/plain": [
       "Index(['Recording', 'Word', 'Vowel', 'NN vowel', 'LG vowel', 'Proba LG 2',\n",
       "       'Proba LG 9', 'Proba LG a', 'Proba LG e', 'Proba LG E', 'Proba LG i',\n",
       "       'Proba LG O', 'Proba LG o', 'Proba LG u', 'Proba LG y', 'Proba NN 2',\n",
       "       'Proba NN 9', 'Proba NN a', 'Proba NN e', 'Proba NN E', 'Proba NN i',\n",
       "       'Proba NN O', 'Proba NN o', 'Proba NN u', 'Proba NN y', 'Region',\n",
       "       'Gender', 'Person ID'],\n",
       "      dtype='object')"
      ]
     },
     "execution_count": 2,
     "metadata": {},
     "output_type": "execute_result"
    }
   ],
   "source": [
    "df.columns"
   ]
  },
  {
   "cell_type": "code",
   "execution_count": 3,
   "id": "5ed026e8",
   "metadata": {},
   "outputs": [
    {
     "data": {
      "text/html": [
       "<div>\n",
       "<style scoped>\n",
       "    .dataframe tbody tr th:only-of-type {\n",
       "        vertical-align: middle;\n",
       "    }\n",
       "\n",
       "    .dataframe tbody tr th {\n",
       "        vertical-align: top;\n",
       "    }\n",
       "\n",
       "    .dataframe thead th {\n",
       "        text-align: right;\n",
       "    }\n",
       "</style>\n",
       "<table border=\"1\" class=\"dataframe\">\n",
       "  <thead>\n",
       "    <tr style=\"text-align: right;\">\n",
       "      <th></th>\n",
       "      <th>Recording</th>\n",
       "      <th>Proba LG 2</th>\n",
       "      <th>Proba LG 9</th>\n",
       "      <th>Proba LG a</th>\n",
       "      <th>Proba LG e</th>\n",
       "      <th>Proba LG E</th>\n",
       "      <th>Proba LG i</th>\n",
       "      <th>Proba LG O</th>\n",
       "      <th>Proba LG o</th>\n",
       "      <th>Proba LG u</th>\n",
       "      <th>...</th>\n",
       "      <th>Proba NN 9</th>\n",
       "      <th>Proba NN a</th>\n",
       "      <th>Proba NN e</th>\n",
       "      <th>Proba NN E</th>\n",
       "      <th>Proba NN i</th>\n",
       "      <th>Proba NN O</th>\n",
       "      <th>Proba NN o</th>\n",
       "      <th>Proba NN u</th>\n",
       "      <th>Proba NN y</th>\n",
       "      <th>Person ID</th>\n",
       "    </tr>\n",
       "  </thead>\n",
       "  <tbody>\n",
       "    <tr>\n",
       "      <th>count</th>\n",
       "      <td>900.000000</td>\n",
       "      <td>900.000000</td>\n",
       "      <td>900.000000</td>\n",
       "      <td>900.000000</td>\n",
       "      <td>900.000000</td>\n",
       "      <td>900.000000</td>\n",
       "      <td>900.000000</td>\n",
       "      <td>900.000000</td>\n",
       "      <td>900.000000</td>\n",
       "      <td>900.000000</td>\n",
       "      <td>...</td>\n",
       "      <td>900.000000</td>\n",
       "      <td>900.000000</td>\n",
       "      <td>900.000000</td>\n",
       "      <td>900.000000</td>\n",
       "      <td>900.000000</td>\n",
       "      <td>900.000000</td>\n",
       "      <td>900.000000</td>\n",
       "      <td>900.000000</td>\n",
       "      <td>900.000000</td>\n",
       "      <td>900.000000</td>\n",
       "    </tr>\n",
       "    <tr>\n",
       "      <th>mean</th>\n",
       "      <td>10.722222</td>\n",
       "      <td>0.064050</td>\n",
       "      <td>0.144448</td>\n",
       "      <td>0.153125</td>\n",
       "      <td>0.075064</td>\n",
       "      <td>0.075022</td>\n",
       "      <td>0.101443</td>\n",
       "      <td>0.068466</td>\n",
       "      <td>0.126511</td>\n",
       "      <td>0.115267</td>\n",
       "      <td>...</td>\n",
       "      <td>0.100411</td>\n",
       "      <td>0.187167</td>\n",
       "      <td>0.101775</td>\n",
       "      <td>0.068822</td>\n",
       "      <td>0.091858</td>\n",
       "      <td>0.118719</td>\n",
       "      <td>0.083508</td>\n",
       "      <td>0.097803</td>\n",
       "      <td>0.085592</td>\n",
       "      <td>21.877778</td>\n",
       "    </tr>\n",
       "    <tr>\n",
       "      <th>std</th>\n",
       "      <td>7.647733</td>\n",
       "      <td>0.224472</td>\n",
       "      <td>0.310780</td>\n",
       "      <td>0.338626</td>\n",
       "      <td>0.234224</td>\n",
       "      <td>0.237364</td>\n",
       "      <td>0.286916</td>\n",
       "      <td>0.230426</td>\n",
       "      <td>0.301697</td>\n",
       "      <td>0.292978</td>\n",
       "      <td>...</td>\n",
       "      <td>0.171225</td>\n",
       "      <td>0.297270</td>\n",
       "      <td>0.193621</td>\n",
       "      <td>0.147616</td>\n",
       "      <td>0.203373</td>\n",
       "      <td>0.194217</td>\n",
       "      <td>0.187231</td>\n",
       "      <td>0.192924</td>\n",
       "      <td>0.203291</td>\n",
       "      <td>13.445252</td>\n",
       "    </tr>\n",
       "    <tr>\n",
       "      <th>min</th>\n",
       "      <td>0.000000</td>\n",
       "      <td>0.000000</td>\n",
       "      <td>0.000000</td>\n",
       "      <td>0.000000</td>\n",
       "      <td>0.000000</td>\n",
       "      <td>0.000000</td>\n",
       "      <td>0.000000</td>\n",
       "      <td>0.000000</td>\n",
       "      <td>0.000000</td>\n",
       "      <td>0.000000</td>\n",
       "      <td>...</td>\n",
       "      <td>0.000000</td>\n",
       "      <td>0.000000</td>\n",
       "      <td>0.000000</td>\n",
       "      <td>0.000000</td>\n",
       "      <td>0.000000</td>\n",
       "      <td>0.000000</td>\n",
       "      <td>0.000000</td>\n",
       "      <td>0.000000</td>\n",
       "      <td>0.000000</td>\n",
       "      <td>1.000000</td>\n",
       "    </tr>\n",
       "    <tr>\n",
       "      <th>25%</th>\n",
       "      <td>4.000000</td>\n",
       "      <td>0.000000</td>\n",
       "      <td>0.000000</td>\n",
       "      <td>0.000000</td>\n",
       "      <td>0.000000</td>\n",
       "      <td>0.000000</td>\n",
       "      <td>0.000000</td>\n",
       "      <td>0.000000</td>\n",
       "      <td>0.000000</td>\n",
       "      <td>0.000000</td>\n",
       "      <td>...</td>\n",
       "      <td>0.002500</td>\n",
       "      <td>0.000000</td>\n",
       "      <td>0.002500</td>\n",
       "      <td>0.000000</td>\n",
       "      <td>0.000000</td>\n",
       "      <td>0.002500</td>\n",
       "      <td>0.000000</td>\n",
       "      <td>0.002500</td>\n",
       "      <td>0.000000</td>\n",
       "      <td>10.000000</td>\n",
       "    </tr>\n",
       "    <tr>\n",
       "      <th>50%</th>\n",
       "      <td>9.000000</td>\n",
       "      <td>0.000000</td>\n",
       "      <td>0.000100</td>\n",
       "      <td>0.000000</td>\n",
       "      <td>0.000000</td>\n",
       "      <td>0.000000</td>\n",
       "      <td>0.000000</td>\n",
       "      <td>0.000000</td>\n",
       "      <td>0.000100</td>\n",
       "      <td>0.000000</td>\n",
       "      <td>...</td>\n",
       "      <td>0.026250</td>\n",
       "      <td>0.012500</td>\n",
       "      <td>0.015000</td>\n",
       "      <td>0.007500</td>\n",
       "      <td>0.005000</td>\n",
       "      <td>0.032500</td>\n",
       "      <td>0.005000</td>\n",
       "      <td>0.015000</td>\n",
       "      <td>0.005000</td>\n",
       "      <td>20.500000</td>\n",
       "    </tr>\n",
       "    <tr>\n",
       "      <th>75%</th>\n",
       "      <td>16.000000</td>\n",
       "      <td>0.000900</td>\n",
       "      <td>0.028025</td>\n",
       "      <td>0.008725</td>\n",
       "      <td>0.000400</td>\n",
       "      <td>0.000625</td>\n",
       "      <td>0.000200</td>\n",
       "      <td>0.000425</td>\n",
       "      <td>0.008575</td>\n",
       "      <td>0.001825</td>\n",
       "      <td>...</td>\n",
       "      <td>0.100625</td>\n",
       "      <td>0.285000</td>\n",
       "      <td>0.082500</td>\n",
       "      <td>0.042500</td>\n",
       "      <td>0.052500</td>\n",
       "      <td>0.130000</td>\n",
       "      <td>0.042500</td>\n",
       "      <td>0.080625</td>\n",
       "      <td>0.037500</td>\n",
       "      <td>33.000000</td>\n",
       "    </tr>\n",
       "    <tr>\n",
       "      <th>max</th>\n",
       "      <td>29.000000</td>\n",
       "      <td>1.000000</td>\n",
       "      <td>1.000000</td>\n",
       "      <td>1.000000</td>\n",
       "      <td>1.000000</td>\n",
       "      <td>1.000000</td>\n",
       "      <td>1.000000</td>\n",
       "      <td>1.000000</td>\n",
       "      <td>1.000000</td>\n",
       "      <td>1.000000</td>\n",
       "      <td>...</td>\n",
       "      <td>0.837500</td>\n",
       "      <td>0.997500</td>\n",
       "      <td>0.952500</td>\n",
       "      <td>0.910000</td>\n",
       "      <td>0.970000</td>\n",
       "      <td>0.897500</td>\n",
       "      <td>0.970000</td>\n",
       "      <td>0.932500</td>\n",
       "      <td>0.992500</td>\n",
       "      <td>46.000000</td>\n",
       "    </tr>\n",
       "  </tbody>\n",
       "</table>\n",
       "<p>8 rows × 22 columns</p>\n",
       "</div>"
      ],
      "text/plain": [
       "        Recording  Proba LG 2  Proba LG 9  Proba LG a  Proba LG e  Proba LG E  \\\n",
       "count  900.000000  900.000000  900.000000  900.000000  900.000000  900.000000   \n",
       "mean    10.722222    0.064050    0.144448    0.153125    0.075064    0.075022   \n",
       "std      7.647733    0.224472    0.310780    0.338626    0.234224    0.237364   \n",
       "min      0.000000    0.000000    0.000000    0.000000    0.000000    0.000000   \n",
       "25%      4.000000    0.000000    0.000000    0.000000    0.000000    0.000000   \n",
       "50%      9.000000    0.000000    0.000100    0.000000    0.000000    0.000000   \n",
       "75%     16.000000    0.000900    0.028025    0.008725    0.000400    0.000625   \n",
       "max     29.000000    1.000000    1.000000    1.000000    1.000000    1.000000   \n",
       "\n",
       "       Proba LG i  Proba LG O  Proba LG o  Proba LG u  ...  Proba NN 9  \\\n",
       "count  900.000000  900.000000  900.000000  900.000000  ...  900.000000   \n",
       "mean     0.101443    0.068466    0.126511    0.115267  ...    0.100411   \n",
       "std      0.286916    0.230426    0.301697    0.292978  ...    0.171225   \n",
       "min      0.000000    0.000000    0.000000    0.000000  ...    0.000000   \n",
       "25%      0.000000    0.000000    0.000000    0.000000  ...    0.002500   \n",
       "50%      0.000000    0.000000    0.000100    0.000000  ...    0.026250   \n",
       "75%      0.000200    0.000425    0.008575    0.001825  ...    0.100625   \n",
       "max      1.000000    1.000000    1.000000    1.000000  ...    0.837500   \n",
       "\n",
       "       Proba NN a  Proba NN e  Proba NN E  Proba NN i  Proba NN O  Proba NN o  \\\n",
       "count  900.000000  900.000000  900.000000  900.000000  900.000000  900.000000   \n",
       "mean     0.187167    0.101775    0.068822    0.091858    0.118719    0.083508   \n",
       "std      0.297270    0.193621    0.147616    0.203373    0.194217    0.187231   \n",
       "min      0.000000    0.000000    0.000000    0.000000    0.000000    0.000000   \n",
       "25%      0.000000    0.002500    0.000000    0.000000    0.002500    0.000000   \n",
       "50%      0.012500    0.015000    0.007500    0.005000    0.032500    0.005000   \n",
       "75%      0.285000    0.082500    0.042500    0.052500    0.130000    0.042500   \n",
       "max      0.997500    0.952500    0.910000    0.970000    0.897500    0.970000   \n",
       "\n",
       "       Proba NN u  Proba NN y   Person ID  \n",
       "count  900.000000  900.000000  900.000000  \n",
       "mean     0.097803    0.085592   21.877778  \n",
       "std      0.192924    0.203291   13.445252  \n",
       "min      0.000000    0.000000    1.000000  \n",
       "25%      0.002500    0.000000   10.000000  \n",
       "50%      0.015000    0.005000   20.500000  \n",
       "75%      0.080625    0.037500   33.000000  \n",
       "max      0.932500    0.992500   46.000000  \n",
       "\n",
       "[8 rows x 22 columns]"
      ]
     },
     "execution_count": 3,
     "metadata": {},
     "output_type": "execute_result"
    }
   ],
   "source": [
    "df.describe()"
   ]
  },
  {
   "cell_type": "markdown",
   "id": "7c3182c0",
   "metadata": {},
   "source": [
    "# Gender repartition (vowels, participants)"
   ]
  },
  {
   "cell_type": "code",
   "execution_count": 4,
   "id": "e3b0f93d",
   "metadata": {},
   "outputs": [
    {
     "data": {
      "text/html": [
       "<div>\n",
       "<style scoped>\n",
       "    .dataframe tbody tr th:only-of-type {\n",
       "        vertical-align: middle;\n",
       "    }\n",
       "\n",
       "    .dataframe tbody tr th {\n",
       "        vertical-align: top;\n",
       "    }\n",
       "\n",
       "    .dataframe thead th {\n",
       "        text-align: right;\n",
       "    }\n",
       "</style>\n",
       "<table border=\"1\" class=\"dataframe\">\n",
       "  <thead>\n",
       "    <tr style=\"text-align: right;\">\n",
       "      <th></th>\n",
       "      <th>Recording</th>\n",
       "      <th>Word</th>\n",
       "      <th>Vowel</th>\n",
       "      <th>NN vowel</th>\n",
       "      <th>LG vowel</th>\n",
       "      <th>Proba LG 2</th>\n",
       "      <th>Proba LG 9</th>\n",
       "      <th>Proba LG a</th>\n",
       "      <th>Proba LG e</th>\n",
       "      <th>Proba LG E</th>\n",
       "      <th>...</th>\n",
       "      <th>Proba NN a</th>\n",
       "      <th>Proba NN e</th>\n",
       "      <th>Proba NN E</th>\n",
       "      <th>Proba NN i</th>\n",
       "      <th>Proba NN O</th>\n",
       "      <th>Proba NN o</th>\n",
       "      <th>Proba NN u</th>\n",
       "      <th>Proba NN y</th>\n",
       "      <th>Region</th>\n",
       "      <th>Person ID</th>\n",
       "    </tr>\n",
       "    <tr>\n",
       "      <th>Gender</th>\n",
       "      <th></th>\n",
       "      <th></th>\n",
       "      <th></th>\n",
       "      <th></th>\n",
       "      <th></th>\n",
       "      <th></th>\n",
       "      <th></th>\n",
       "      <th></th>\n",
       "      <th></th>\n",
       "      <th></th>\n",
       "      <th></th>\n",
       "      <th></th>\n",
       "      <th></th>\n",
       "      <th></th>\n",
       "      <th></th>\n",
       "      <th></th>\n",
       "      <th></th>\n",
       "      <th></th>\n",
       "      <th></th>\n",
       "      <th></th>\n",
       "      <th></th>\n",
       "    </tr>\n",
       "  </thead>\n",
       "  <tbody>\n",
       "    <tr>\n",
       "      <th>F</th>\n",
       "      <td>510</td>\n",
       "      <td>510</td>\n",
       "      <td>510</td>\n",
       "      <td>510</td>\n",
       "      <td>510</td>\n",
       "      <td>510</td>\n",
       "      <td>510</td>\n",
       "      <td>510</td>\n",
       "      <td>510</td>\n",
       "      <td>510</td>\n",
       "      <td>...</td>\n",
       "      <td>510</td>\n",
       "      <td>510</td>\n",
       "      <td>510</td>\n",
       "      <td>510</td>\n",
       "      <td>510</td>\n",
       "      <td>510</td>\n",
       "      <td>510</td>\n",
       "      <td>510</td>\n",
       "      <td>510</td>\n",
       "      <td>510</td>\n",
       "    </tr>\n",
       "    <tr>\n",
       "      <th>M</th>\n",
       "      <td>390</td>\n",
       "      <td>390</td>\n",
       "      <td>390</td>\n",
       "      <td>390</td>\n",
       "      <td>390</td>\n",
       "      <td>390</td>\n",
       "      <td>390</td>\n",
       "      <td>390</td>\n",
       "      <td>390</td>\n",
       "      <td>390</td>\n",
       "      <td>...</td>\n",
       "      <td>390</td>\n",
       "      <td>390</td>\n",
       "      <td>390</td>\n",
       "      <td>390</td>\n",
       "      <td>390</td>\n",
       "      <td>390</td>\n",
       "      <td>390</td>\n",
       "      <td>390</td>\n",
       "      <td>390</td>\n",
       "      <td>390</td>\n",
       "    </tr>\n",
       "  </tbody>\n",
       "</table>\n",
       "<p>2 rows × 27 columns</p>\n",
       "</div>"
      ],
      "text/plain": [
       "        Recording  Word  Vowel  NN vowel  LG vowel  Proba LG 2  Proba LG 9  \\\n",
       "Gender                                                                       \n",
       "F             510   510    510       510       510         510         510   \n",
       "M             390   390    390       390       390         390         390   \n",
       "\n",
       "        Proba LG a  Proba LG e  Proba LG E  ...  Proba NN a  Proba NN e  \\\n",
       "Gender                                      ...                           \n",
       "F              510         510         510  ...         510         510   \n",
       "M              390         390         390  ...         390         390   \n",
       "\n",
       "        Proba NN E  Proba NN i  Proba NN O  Proba NN o  Proba NN u  \\\n",
       "Gender                                                               \n",
       "F              510         510         510         510         510   \n",
       "M              390         390         390         390         390   \n",
       "\n",
       "        Proba NN y  Region  Person ID  \n",
       "Gender                                 \n",
       "F              510     510        510  \n",
       "M              390     390        390  \n",
       "\n",
       "[2 rows x 27 columns]"
      ]
     },
     "execution_count": 4,
     "metadata": {},
     "output_type": "execute_result"
    }
   ],
   "source": [
    "df.groupby('Gender').count()"
   ]
  },
  {
   "cell_type": "code",
   "execution_count": 5,
   "id": "6e4b0cb9",
   "metadata": {},
   "outputs": [
    {
     "data": {
      "text/plain": [
       "Gender\n",
       "F    27\n",
       "M    19\n",
       "Name: Recording, dtype: int64"
      ]
     },
     "execution_count": 5,
     "metadata": {},
     "output_type": "execute_result"
    }
   ],
   "source": [
    "df.groupby(['Person ID']).max().groupby('Gender').count()['Recording']"
   ]
  },
  {
   "cell_type": "markdown",
   "id": "c4e4e54e",
   "metadata": {},
   "source": [
    "# Size of recordings"
   ]
  },
  {
   "cell_type": "code",
   "execution_count": 257,
   "id": "363d6cae",
   "metadata": {},
   "outputs": [
    {
     "data": {
      "text/plain": [
       "Text(0, 0.5, 'Number of people')"
      ]
     },
     "execution_count": 257,
     "metadata": {},
     "output_type": "execute_result"
    },
    {
     "data": {
      "image/png": "[encoded data removed]",
      "text/plain": [
       "<Figure size 432x288 with 1 Axes>"
      ]
     },
     "metadata": {
      "needs_background": "light"
     },
     "output_type": "display_data"
    }
   ],
   "source": [
    "df.groupby('Person ID')['Recording'].max().hist(bins=[9, 11, 19, 21, 29, 31])\n",
    "plt.grid(axis='x')\n",
    "plt.title('Vowels recorded per person')\n",
    "plt.xlabel('Vowels')\n",
    "plt.ylabel('Number of people')"
   ]
  },
  {
   "cell_type": "markdown",
   "id": "42a53624",
   "metadata": {},
   "source": [
    "# Accuracy"
   ]
  },
  {
   "cell_type": "code",
   "execution_count": 7,
   "id": "f5ebbc3a",
   "metadata": {},
   "outputs": [],
   "source": [
    "df['Correct NN'] = df['Vowel'] == df['NN vowel']\n",
    "df['Correct LG'] = df['Vowel'] == df['LG vowel']"
   ]
  },
  {
   "cell_type": "code",
   "execution_count": 8,
   "id": "3d01298d",
   "metadata": {},
   "outputs": [
    {
     "name": "stdout",
     "output_type": "stream",
     "text": [
      "NN accuracy: 51.56%\n",
      "LG accuracy: 67.89%\n"
     ]
    }
   ],
   "source": [
    "print(f\"NN accuracy: {100*df['Correct NN'].mean():.2f}%\")\n",
    "print(f\"LG accuracy: {100*df['Correct LG'].mean():.2f}%\")"
   ]
  },
  {
   "cell_type": "markdown",
   "id": "423b192f",
   "metadata": {},
   "source": [
    "### Per gender"
   ]
  },
  {
   "cell_type": "code",
   "execution_count": 9,
   "id": "387bdf09",
   "metadata": {},
   "outputs": [
    {
     "name": "stdout",
     "output_type": "stream",
     "text": [
      "NN accuracy\n",
      "Gender\n",
      "F    50.000000\n",
      "M    53.589744\n",
      "Name: Correct NN, dtype: float64\n",
      "\n",
      "LG accuracy\n",
      "Gender\n",
      "F    60.392157\n",
      "M    77.692308\n",
      "Name: Correct LG, dtype: float64\n",
      "\n"
     ]
    }
   ],
   "source": [
    "print('NN accuracy')\n",
    "print(100*df.groupby('Gender')['Correct NN'].mean())\n",
    "print()\n",
    "\n",
    "print('LG accuracy')\n",
    "print(100*df.groupby('Gender')['Correct LG'].mean())\n",
    "print()"
   ]
  },
  {
   "cell_type": "code",
   "execution_count": 261,
   "id": "cbb53d74",
   "metadata": {},
   "outputs": [
    {
     "data": {
      "image/png": "[encoded data removed]",
      "text/plain": [
       "<Figure size 720x504 with 1 Axes>"
      ]
     },
     "metadata": {
      "needs_background": "light"
     },
     "output_type": "display_data"
    }
   ],
   "source": [
    "fig = plt.figure(figsize=(10, 7))\n",
    "df2 = df.groupby('Vowel')['Correct NN'].mean().sort_values()\n",
    "df2.plot.bar(ylim=[0,1.1], ax=fig.gca(), color='#1f77b4', alpha=0.5, label='NN model')\n",
    "df3 = df.groupby('Vowel')['Correct LG'].mean().sort_values()\n",
    "df3.plot.bar(ylim=[0,1.1], ax=fig.gca(), color='#ff7f0e', alpha=0.5, label='LG model')\n",
    "plt.grid(axis='y')\n",
    "plt.ylabel('Accuracy')\n",
    "plt.title('Model accuracy for each true vowel')\n",
    "plt.legend()\n",
    "plt.show()"
   ]
  },
  {
   "cell_type": "code",
   "execution_count": 266,
   "id": "7762933a",
   "metadata": {},
   "outputs": [
    {
     "data": {
      "image/png": "[encoded data removed]",
      "text/plain": [
       "<Figure size 720x504 with 1 Axes>"
      ]
     },
     "metadata": {
      "needs_background": "light"
     },
     "output_type": "display_data"
    },
    {
     "data": {
      "image/png": "[encoded data removed]",
      "text/plain": [
       "<Figure size 720x504 with 1 Axes>"
      ]
     },
     "metadata": {
      "needs_background": "light"
     },
     "output_type": "display_data"
    }
   ],
   "source": [
    "fig = plt.figure(figsize=(10, 7))\n",
    "df2 = df.groupby('Vowel')['Correct NN'].mean().sort_values()\n",
    "df2.plot.bar(ylim=[0,1.1], label='NN model', ax=fig.gca())\n",
    "plt.ylabel('Accuracy')\n",
    "plt.title('Model accuracy for each true vowel')\n",
    "plt.grid(axis='y')\n",
    "plt.legend()\n",
    "plt.show()\n",
    "fig = plt.figure(figsize=(10, 7))\n",
    "df2 = df.groupby('Vowel')['Correct LG'].mean().sort_values()\n",
    "df2.plot.bar(ylim=[0,1.1], label='LG model', ax=fig.gca())\n",
    "plt.ylabel('Accuracy')\n",
    "plt.title('Model accuracy for each true vowel')\n",
    "plt.grid(axis='y')\n",
    "plt.legend()\n",
    "plt.show()"
   ]
  },
  {
   "cell_type": "markdown",
   "id": "d7cf40d7",
   "metadata": {},
   "source": [
    "### Per gender"
   ]
  },
  {
   "cell_type": "code",
   "execution_count": 269,
   "id": "b798edda",
   "metadata": {},
   "outputs": [
    {
     "data": {
      "image/png": "[encoded data removed]",
      "text/plain": [
       "<Figure size 720x504 with 1 Axes>"
      ]
     },
     "metadata": {
      "needs_background": "light"
     },
     "output_type": "display_data"
    }
   ],
   "source": [
    "fig = plt.figure(figsize=(10, 7))\n",
    "df2 = df[df['Gender'] == 'M'].groupby('Vowel')['Correct NN'].mean().sort_values()\n",
    "df2.plot.bar(ylim=[0,1.1], ax=fig.gca(), color='#1f77b4', alpha=0.5, label='NN model')\n",
    "df3 = df[df['Gender'] == 'M'].groupby('Vowel')['Correct LG'].mean().sort_values()\n",
    "df3.plot.bar(ylim=[0,1.1], ax=fig.gca(), color='#ff7f0e', alpha=0.5, label='LG model')\n",
    "plt.ylabel('Accuracy')\n",
    "plt.title('Model accuracy for each true vowel (male speakers)')\n",
    "plt.grid(axis='y')\n",
    "plt.legend()\n",
    "plt.show()"
   ]
  },
  {
   "cell_type": "code",
   "execution_count": 271,
   "id": "2cc60fd5",
   "metadata": {},
   "outputs": [
    {
     "data": {
      "image/png": "[encoded data removed]",
      "text/plain": [
       "<Figure size 720x504 with 1 Axes>"
      ]
     },
     "metadata": {
      "needs_background": "light"
     },
     "output_type": "display_data"
    }
   ],
   "source": [
    "fig = plt.figure(figsize=(10, 7))\n",
    "df2 = df[df['Gender'] == 'F'].groupby('Vowel')['Correct NN'].mean().sort_values()\n",
    "df2.plot.bar(ylim=[0,1.1], ax=fig.gca(), color='#1f77b4', alpha=0.5, label='NN model')\n",
    "df3 = df[df['Gender'] == 'F'].groupby('Vowel')['Correct LG'].mean().sort_values()\n",
    "df3.plot.bar(ylim=[0,1.1], ax=fig.gca(), color='#ff7f0e', alpha=0.5, label='LG model')\n",
    "plt.ylabel('Accuracy')\n",
    "plt.title('Model accuracy for each true vowel (female speakers)')\n",
    "plt.grid(axis='y')\n",
    "plt.legend()\n",
    "plt.show()"
   ]
  },
  {
   "cell_type": "markdown",
   "id": "0ddc0f97",
   "metadata": {},
   "source": [
    "# Classification report / Confusion matrix"
   ]
  },
  {
   "cell_type": "code",
   "execution_count": 246,
   "id": "e001fa64",
   "metadata": {
    "scrolled": true
   },
   "outputs": [
    {
     "name": "stdout",
     "output_type": "stream",
     "text": [
      "NN model:\n",
      "              precision    recall  f1-score   support\n",
      "\n",
      "           2     0.8393    0.5732    0.6812        82\n",
      "           9     0.4926    0.6907    0.5751        97\n",
      "           E     0.1719    0.1100    0.1341       100\n",
      "           O     0.0169    0.0111    0.0134        90\n",
      "           a     0.6617    0.9565    0.7822        92\n",
      "           e     0.2192    0.2025    0.2105        79\n",
      "           i     0.8696    0.8889    0.8791        90\n",
      "           o     0.1964    0.2444    0.2178        90\n",
      "           u     0.6449    0.7667    0.7005        90\n",
      "           y     0.9265    0.7000    0.7975        90\n",
      "\n",
      "    accuracy                         0.5156       900\n",
      "   macro avg     0.5039    0.5144    0.4992       900\n",
      "weighted avg     0.5010    0.5156    0.4982       900\n",
      "\n",
      "\n",
      "LG model:\n",
      "              precision    recall  f1-score   support\n",
      "\n",
      "           2     0.8545    0.5732    0.6861        82\n",
      "           9     0.6044    0.5670    0.5851        97\n",
      "           E     0.8060    0.5400    0.6467       100\n",
      "           O     0.6250    0.6111    0.6180        90\n",
      "           a     0.4742    1.0000    0.6434        92\n",
      "           e     0.6742    0.7595    0.7143        79\n",
      "           i     0.8118    0.7667    0.7886        90\n",
      "           o     0.7105    0.6000    0.6506        90\n",
      "           u     0.7683    0.7000    0.7326        90\n",
      "           y     0.8493    0.6889    0.7607        90\n",
      "\n",
      "    accuracy                         0.6789       900\n",
      "   macro avg     0.7178    0.6806    0.6826       900\n",
      "weighted avg     0.7167    0.6789    0.6809       900\n",
      "\n"
     ]
    }
   ],
   "source": [
    "print('NN model:')\n",
    "print(classification_report(df['Vowel'], df['NN vowel'], digits=4))\n",
    "print()\n",
    "print('LG model:')\n",
    "print(classification_report(df['Vowel'], df['LG vowel'], digits=4))"
   ]
  },
  {
   "cell_type": "code",
   "execution_count": 278,
   "id": "1a41943d",
   "metadata": {},
   "outputs": [
    {
     "data": {
      "text/plain": [
       "Text(0.5, 1.0, 'Linguistic model')"
      ]
     },
     "execution_count": 278,
     "metadata": {},
     "output_type": "execute_result"
    },
    {
     "data": {
      "image/png": "[encoded data removed]",
      "text/plain": [
       "<Figure size 576x576 with 2 Axes>"
      ]
     },
     "metadata": {
      "needs_background": "light"
     },
     "output_type": "display_data"
    },
    {
     "data": {
      "image/png": "[encoded data removed]",
      "text/plain": [
       "<Figure size 576x576 with 2 Axes>"
      ]
     },
     "metadata": {
      "needs_background": "light"
     },
     "output_type": "display_data"
    }
   ],
   "source": [
    "fig = plt.figure(figsize=(8, 8))\n",
    "classes = list('29EOaeiouy')\n",
    "cm = confusion_matrix(df['Vowel'], df['NN vowel'])\n",
    "disp = ConfusionMatrixDisplay(confusion_matrix=cm, display_labels=classes)\n",
    "disp.plot(ax=fig.gca())\n",
    "plt.title('Neural model')\n",
    "\n",
    "fig = plt.figure(figsize=(8, 8))\n",
    "cm = confusion_matrix(df['Vowel'], df['LG vowel'])\n",
    "disp = ConfusionMatrixDisplay(confusion_matrix=cm, display_labels=classes)\n",
    "disp.plot(ax=fig.gca())\n",
    "plt.title('Linguistic model')"
   ]
  },
  {
   "cell_type": "markdown",
   "id": "b6523dd0",
   "metadata": {},
   "source": [
    "### Per gender"
   ]
  },
  {
   "cell_type": "code",
   "execution_count": 244,
   "id": "d46daef0",
   "metadata": {},
   "outputs": [
    {
     "name": "stdout",
     "output_type": "stream",
     "text": [
      "Male\n",
      "NN model:\n",
      "              precision    recall  f1-score   support\n",
      "\n",
      "           2     0.8261    0.5938    0.6909        32\n",
      "           9     0.5781    0.8043    0.6727        46\n",
      "           E     0.1905    0.0870    0.1194        46\n",
      "           O     0.0370    0.0256    0.0303        39\n",
      "           a     0.8043    0.9487    0.8706        39\n",
      "           e     0.1951    0.2500    0.2192        32\n",
      "           i     0.9211    0.8974    0.9091        39\n",
      "           o     0.0952    0.1026    0.0988        39\n",
      "           u     0.6154    0.8205    0.7033        39\n",
      "           y     0.8889    0.8205    0.8533        39\n",
      "\n",
      "    accuracy                         0.5359       390\n",
      "   macro avg     0.5152    0.5350    0.5168       390\n",
      "weighted avg     0.5106    0.5359    0.5146       390\n",
      "\n",
      "\n",
      "LG model:\n",
      "              precision    recall  f1-score   support\n",
      "\n",
      "           2     0.8276    0.7500    0.7869        32\n",
      "           9     0.7778    0.6087    0.6829        46\n",
      "           E     0.8298    0.8478    0.8387        46\n",
      "           O     0.7500    0.6923    0.7200        39\n",
      "           a     0.5571    1.0000    0.7156        39\n",
      "           e     0.8125    0.8125    0.8125        32\n",
      "           i     0.8974    0.8974    0.8974        39\n",
      "           o     0.8182    0.6923    0.7500        39\n",
      "           u     0.7714    0.6923    0.7297        39\n",
      "           y     0.9394    0.7949    0.8611        39\n",
      "\n",
      "    accuracy                         0.7769       390\n",
      "   macro avg     0.7981    0.7788    0.7795       390\n",
      "weighted avg     0.7975    0.7769    0.7781       390\n",
      "\n"
     ]
    }
   ],
   "source": [
    "print('Male')\n",
    "print('NN model:')\n",
    "df2 = df[df['Gender'] == 'M']\n",
    "print(classification_report(df2['Vowel'], df2['NN vowel'], digits=4))\n",
    "print()\n",
    "print('LG model:')\n",
    "print(classification_report(df2['Vowel'], df2['LG vowel'], digits=4))"
   ]
  },
  {
   "cell_type": "code",
   "execution_count": 245,
   "id": "451100a1",
   "metadata": {},
   "outputs": [
    {
     "name": "stdout",
     "output_type": "stream",
     "text": [
      "Female\n",
      "NN model:\n",
      "              precision    recall  f1-score   support\n",
      "\n",
      "           2     0.8485    0.5600    0.6747        50\n",
      "           9     0.4167    0.5882    0.4878        51\n",
      "           E     0.1628    0.1296    0.1443        54\n",
      "           O     0.0000    0.0000    0.0000        51\n",
      "           a     0.5862    0.9623    0.7286        53\n",
      "           e     0.2500    0.1702    0.2025        47\n",
      "           i     0.8333    0.8824    0.8571        51\n",
      "           o     0.2571    0.3529    0.2975        51\n",
      "           u     0.6727    0.7255    0.6981        51\n",
      "           y     0.9688    0.6078    0.7470        51\n",
      "\n",
      "    accuracy                         0.5000       510\n",
      "   macro avg     0.4996    0.4979    0.4838       510\n",
      "weighted avg     0.4992    0.5000    0.4846       510\n",
      "\n",
      "\n",
      "LG model:\n",
      "              precision    recall  f1-score   support\n",
      "\n",
      "           2     0.8846    0.4600    0.6053        50\n",
      "           9     0.4909    0.5294    0.5094        51\n",
      "           E     0.7500    0.2778    0.4054        54\n",
      "           O     0.5385    0.5490    0.5437        51\n",
      "           a     0.4274    1.0000    0.5989        53\n",
      "           e     0.5965    0.7234    0.6538        47\n",
      "           i     0.7391    0.6667    0.7010        51\n",
      "           o     0.6279    0.5294    0.5745        51\n",
      "           u     0.7660    0.7059    0.7347        51\n",
      "           y     0.7750    0.6078    0.6813        51\n",
      "\n",
      "    accuracy                         0.6039       510\n",
      "   macro avg     0.6596    0.6049    0.6008       510\n",
      "weighted avg     0.6593    0.6039    0.5992       510\n",
      "\n"
     ]
    }
   ],
   "source": [
    "print('Female')\n",
    "print('NN model:')\n",
    "df2 = df[df['Gender'] == 'F']\n",
    "print(classification_report(df2['Vowel'], df2['NN vowel'], digits=4))\n",
    "print()\n",
    "print('LG model:')\n",
    "print(classification_report(df2['Vowel'], df2['LG vowel'], digits=4))"
   ]
  },
  {
   "cell_type": "code",
   "execution_count": 279,
   "id": "e357c612",
   "metadata": {},
   "outputs": [
    {
     "data": {
      "text/plain": [
       "Text(0.5, 1.0, 'Linguistic model (male speakers)')"
      ]
     },
     "execution_count": 279,
     "metadata": {},
     "output_type": "execute_result"
    },
    {
     "data": {
      "image/png": "[encoded data removed]",
      "text/plain": [
       "<Figure size 576x576 with 2 Axes>"
      ]
     },
     "metadata": {
      "needs_background": "light"
     },
     "output_type": "display_data"
    },
    {
     "data": {
      "image/png": "[encoded data removed]",
      "text/plain": [
       "<Figure size 576x576 with 2 Axes>"
      ]
     },
     "metadata": {
      "needs_background": "light"
     },
     "output_type": "display_data"
    }
   ],
   "source": [
    "fig = plt.figure(figsize=(8, 8))\n",
    "df2 = df[df['Gender'] == 'M']\n",
    "classes = list('29EOaeiouy')\n",
    "cm = confusion_matrix(df2['Vowel'], df2['NN vowel'])\n",
    "disp = ConfusionMatrixDisplay(confusion_matrix=cm, display_labels=classes)\n",
    "disp.plot(ax=fig.gca())\n",
    "plt.title('Neural model (male speakers)')\n",
    "\n",
    "fig = plt.figure(figsize=(8, 8))\n",
    "cm = confusion_matrix(df2['Vowel'], df2['LG vowel'])\n",
    "disp = ConfusionMatrixDisplay(confusion_matrix=cm, display_labels=classes)\n",
    "disp.plot(ax=fig.gca())\n",
    "plt.title('Linguistic model (male speakers)')"
   ]
  },
  {
   "cell_type": "code",
   "execution_count": 280,
   "id": "abab86a3",
   "metadata": {},
   "outputs": [
    {
     "data": {
      "text/plain": [
       "Text(0.5, 1.0, 'Linguistic model (female speakers)')"
      ]
     },
     "execution_count": 280,
     "metadata": {},
     "output_type": "execute_result"
    },
    {
     "data": {
      "image/png": "[encoded data removed]",
      "text/plain": [
       "<Figure size 576x576 with 2 Axes>"
      ]
     },
     "metadata": {
      "needs_background": "light"
     },
     "output_type": "display_data"
    },
    {
     "data": {
      "image/png": "[encoded data removed]",
      "text/plain": [
       "<Figure size 576x576 with 2 Axes>"
      ]
     },
     "metadata": {
      "needs_background": "light"
     },
     "output_type": "display_data"
    }
   ],
   "source": [
    "fig = plt.figure(figsize=(8, 8))\n",
    "df2 = df[df['Gender'] == 'F']\n",
    "classes = list('29EOaeiouy')\n",
    "cm = confusion_matrix(df2['Vowel'], df2['NN vowel'])\n",
    "disp = ConfusionMatrixDisplay(confusion_matrix=cm, display_labels=classes)\n",
    "disp.plot(ax=fig.gca())\n",
    "plt.title('Neural model (female speakers)')\n",
    "\n",
    "fig = plt.figure(figsize=(8, 8))\n",
    "cm = confusion_matrix(df2['Vowel'], df2['LG vowel'])\n",
    "disp = ConfusionMatrixDisplay(confusion_matrix=cm, display_labels=classes)\n",
    "disp.plot(ax=fig.gca())\n",
    "plt.title('Linguistic model (female speakers)')"
   ]
  },
  {
   "cell_type": "code",
   "execution_count": 281,
   "id": "2a63a60a",
   "metadata": {},
   "outputs": [
    {
     "data": {
      "image/png": "[encoded data removed]",
      "text/plain": [
       "<Figure size 720x504 with 1 Axes>"
      ]
     },
     "metadata": {
      "needs_background": "light"
     },
     "output_type": "display_data"
    }
   ],
   "source": [
    "def change_region(row):\n",
    "    if row['Region'] == 'Belfort':\n",
    "        row['Region'] = 'Bourgogne'\n",
    "    elif row['Region'] in ['Champagne-Ardennes', 'Lorraine', 'Picardie-Lorraine']:\n",
    "        row['Region'] = 'Grand Est'\n",
    "    elif row['Region'] == 'Toulouse':\n",
    "        row['Region'] = 'Occitanie'\n",
    "    elif row['Region'] == 'Lyonnais':\n",
    "        row['Region'] = 'Rhône-Alpes'\n",
    "    elif row['Region'] == 'Casablanca':\n",
    "        row['Region'] = 'Morocco'\n",
    "    elif row['Region'] == 'Liban':\n",
    "        row['Region'] = 'Lebanon'\n",
    "    elif row['Region'] == 'Genève':\n",
    "        row['Region'] = 'Geneva'\n",
    "    return row\n",
    "\n",
    "plt.figure(figsize=(10, 7))\n",
    "cnt = Counter(df.apply(change_region, axis=1).groupby('Person ID').max()['Region'].values)\n",
    "labels, values = zip(*cnt.most_common())\n",
    "indexes = np.arange(len(labels))\n",
    "barlist = plt.bar(indexes, values, width=.9)\n",
    "for i, label in enumerate(labels):\n",
    "    if label in ['Geneva', 'Lebanon', 'Morocco', 'Senegal', 'Gabon', 'Togo', 'Madagascar', 'Ukraine']:\n",
    "        barlist[i].set_color('#ff7f0e')\n",
    "plt.xticks(indexes, labels, rotation=90)\n",
    "plt.yticks(np.arange(0, 25, 3))\n",
    "plt.grid(axis='y')\n",
    "plt.show()"
   ]
  },
  {
   "cell_type": "markdown",
   "id": "d7886b87",
   "metadata": {},
   "source": [
    "# Per person accuracy"
   ]
  },
  {
   "cell_type": "code",
   "execution_count": 294,
   "id": "8c4f2bb2",
   "metadata": {},
   "outputs": [
    {
     "data": {
      "text/plain": [
       "<matplotlib.legend.Legend at 0x7fd59ec79ae0>"
      ]
     },
     "execution_count": 294,
     "metadata": {},
     "output_type": "execute_result"
    },
    {
     "data": {
      "image/png": "[encoded data removed]",
      "text/plain": [
       "<Figure size 720x504 with 1 Axes>"
      ]
     },
     "metadata": {
      "needs_background": "light"
     },
     "output_type": "display_data"
    }
   ],
   "source": [
    "fig = plt.figure(figsize=(10, 7))\n",
    "df.groupby('Person ID')['Correct NN'].mean().hist(bins=np.arange(0, 1.05, .05), ax=fig.gca(), alpha=.5, label='NN accuracy')\n",
    "df.groupby('Person ID')['Correct LG'].mean().hist(bins=np.arange(0, 1.05, .05), ax=fig.gca(), alpha=.5, label='LG accuracy')\n",
    "plt.yticks(np.arange(0, 21, 3))\n",
    "plt.title('Accuracy of the models per person')\n",
    "plt.xlabel('Accuracy')\n",
    "plt.ylabel('Number of people')\n",
    "plt.legend()"
   ]
  },
  {
   "cell_type": "code",
   "execution_count": null,
   "id": "81b36035",
   "metadata": {},
   "outputs": [],
   "source": []
  }
 ],
 "metadata": {
  "kernelspec": {
   "display_name": "Lambda Notebook (Python 3)",
   "language": "python",
   "name": "lambda-notebook"
  },
  "language_info": {
   "codemirror_mode": {
    "name": "ipython",
    "version": 3
   },
   "file_extension": ".py",
   "mimetype": "text/x-python",
   "name": "python",
   "nbconvert_exporter": "python",
   "pygments_lexer": "ipython3",
   "version": "3.10.6"
  }
 },
 "nbformat": 4,
 "nbformat_minor": 5
}
