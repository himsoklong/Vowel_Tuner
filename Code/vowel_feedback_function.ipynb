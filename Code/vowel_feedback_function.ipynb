{
 "cells": [
  {
   "cell_type": "code",
   "execution_count": 2,
   "metadata": {
    "id": "jRdpblgEZUjI"
   },
   "outputs": [],
   "source": [
    "def vowel_feedback (vowel_des, vowel_per):\n",
    "\n",
    "    #vowel dictionary on the following format: 'vowel: openness score, frontness score, rounded'\n",
    "    vowel_dict = {'i': [0, 10, False], 'y': [0, 10, True], 'e': [2, 10, False], 'E':[4, 6, False], \n",
    "    'a': [8, 4, False], 'u': [0, 0, True], 'o': [2, 0, True], 'O': [4, 0, True], \n",
    "    '2': [2, 10, True], 'A': [8, 0, False], '9': [4, 6, True], '@': [3, 5, False]}\n",
    "\n",
    "    #parameters of desired vowel\n",
    "    openness_des=vowel_dict[vowel_des][0]\n",
    "    frontness_des=vowel_dict[vowel_des][1]\n",
    "    rounded_des=vowel_dict[vowel_des][2]\n",
    "\n",
    "    #parameters of perceived vowel\n",
    "    openness_per=vowel_dict[vowel_per][0]\n",
    "    frontness_per=vowel_dict[vowel_per][1]\n",
    "    rounded_per=vowel_dict[vowel_per][2]\n",
    "\n",
    "    ##################################### TIME FOR FEEDBACK #####################################\n",
    "\n",
    "    feedback_dict={'accepted': ['Excellent! You sound like a native!'],\n",
    "                   'openness':['Close your mouth more!', 'Open your mouth more!'], \n",
    "                   'frontness': ['Move your tongue further back!', 'Move your tongue forward!'],\n",
    "                   'rounding': ['Round your lips!', \"Don't round your lips!\"]}\n",
    "    \n",
    "    #feedback messages\n",
    "    a_feedback='' #accepted\n",
    "    o_feedback='' #openness\n",
    "    f_feedback='' #frontness\n",
    "    r_feedback='' #rounding\n",
    "    \n",
    "    #if vowel is ACCEPTED\n",
    "\n",
    "    if vowel_des == vowel_per:\n",
    "      a_feedback=feedback_dict['accepted'][0]\n",
    "\n",
    "    #if vowel is NOT ACCEPTED\n",
    "\n",
    "    else:\n",
    "        #Checking openness\n",
    "        if openness_per > openness_des:\n",
    "            o_feedback=feedback_dict['openness'][0]\n",
    "        elif openness_per < openness_des:\n",
    "            o_feedback=feedback_dict['openness'][1]\n",
    "\n",
    "        #Checking frontness\n",
    "        if frontness_per > frontness_des:\n",
    "          f_feedback=feedback_dict['frontness'][0]\n",
    "        elif frontness_per < frontness_des:\n",
    "          f_feedback=feedback_dict['frontness'][1]\n",
    "\n",
    "        #Checking rounding\n",
    "        if rounded_per==False != rounded_des:\n",
    "          r_feedback=feedback_dict['rounding'][0]\n",
    "        elif rounded_per==True != rounded_des:\n",
    "          r_feedback=feedback_dict['rounding'][1]\n",
    "\n",
    "    #returns tuple with four values \n",
    "    return a_feedback, r_feedback, o_feedback, f_feedback"
   ]
  },
  {
   "cell_type": "markdown",
   "metadata": {
    "id": "3Y07yq0rNR8z"
   },
   "source": [
    "Running the function:"
   ]
  },
  {
   "cell_type": "code",
   "execution_count": 5,
   "metadata": {
    "colab": {
     "base_uri": "https://localhost:8080/"
    },
    "id": "DBpOHJQlzfE4",
    "outputId": "5e5cd684-36f9-4b34-92c0-6e684cd541cc"
   },
   "outputs": [
    {
     "data": {
      "text/plain": [
       "('', 'Round your lips!', '', '')"
      ]
     },
     "execution_count": 5,
     "metadata": {},
     "output_type": "execute_result"
    }
   ],
   "source": [
    "#the vowel you are trying to say\n",
    "desired_vowel ='y' \n",
    "\n",
    "#the vowel you are actually saying\n",
    "perceived_vowel='i'\n",
    "\n",
    "vowel_feedback(desired_vowel, perceived_vowel)"
   ]
  },
  {
   "cell_type": "code",
   "execution_count": null,
   "metadata": {},
   "outputs": [],
   "source": []
  }
 ],
 "metadata": {
  "colab": {
   "provenance": []
  },
  "kernelspec": {
   "display_name": "Python 3 (ipykernel)",
   "language": "python",
   "name": "python3"
  },
  "language_info": {
   "codemirror_mode": {
    "name": "ipython",
    "version": 3
   },
   "file_extension": ".py",
   "mimetype": "text/x-python",
   "name": "python",
   "nbconvert_exporter": "python",
   "pygments_lexer": "ipython3",
   "version": "3.10.6"
  }
 },
 "nbformat": 4,
 "nbformat_minor": 1
}
