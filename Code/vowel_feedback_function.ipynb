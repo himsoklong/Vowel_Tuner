{
  "nbformat": 4,
  "nbformat_minor": 0,
  "metadata": {
    "colab": {
      "provenance": []
    },
    "kernelspec": {
      "name": "python3",
      "display_name": "Python 3"
    },
    "language_info": {
      "name": "python"
    }
  },
  "cells": [
    {
      "cell_type": "code",
      "source": [
        "def vowel_feedback (vowel_des, vowel_per):\n",
        "\n",
        "    #vowel dictionary on the following format: 'vowel: openness score, frontness score, rounded'\n",
        "    vowel_dict = {'i': [0, 10, False], 'y': [0, 10, True], 'e': [2, 10, False], 'E':[4, 6, False], \n",
        "    'a': [8, 4, False], 'u': [0, 0, True], 'o': [2, 0, True], 'O': [4, 0, True], \n",
        "    '2': [2, 10, True], 'A': [8, 0, False], '9': [4, 6, True], '@': [3, 5, False]}\n",
        "\n",
        "    #parameters of desired vowel\n",
        "    openness_des=vowel_dict[vowel_des][0]\n",
        "    frontness_des=vowel_dict[vowel_des][1]\n",
        "    rounded_des=vowel_dict[vowel_des][2]\n",
        "\n",
        "    #parameters of perceived vowel\n",
        "    openness_per=vowel_dict[vowel_per][0]\n",
        "    frontness_per=vowel_dict[vowel_per][1]\n",
        "    rounded_per=vowel_dict[vowel_per][2]\n",
        "\n",
        "    ##################################### TIME FOR FEEDBACK #####################################\n",
        "\n",
        "    feedback_dict={'accepted': ['Excellent! You sound like a native!'],\n",
        "                   'openness':['Close your mouth more!', 'Open your mouth more!'], \n",
        "                   'frontness': ['Move your tongue further back!', 'Move your tongue forward!'],\n",
        "                   'rounding': ['Round your lips!', \"Don't round your lips!\"]}\n",
        "    \n",
        "    #feedback messages\n",
        "    a_feedback='' #accepted\n",
        "    o_feedback='' #openness\n",
        "    f_feedback='' #frontness\n",
        "    r_feedback='' #rounding\n",
        "    \n",
        "    #if vowel is ACCEPTED\n",
        "\n",
        "    if vowel_des == vowel_per:\n",
        "      a_feedback=feedback_dict['accepted'][0]\n",
        "\n",
        "    #if vowel is NOT ACCEPTED\n",
        "\n",
        "    else:\n",
        "        #Checking openness\n",
        "        if openness_per > openness_des:\n",
        "            o_feedback=feedback_dict['openness'][0]\n",
        "        elif openness_per < openness_des:\n",
        "            o_feedback=feedback_dict['openness'][1]\n",
        "\n",
        "        #Checking frontness\n",
        "        if frontness_per > frontness_des:\n",
        "          f_feedback=feedback_dict['frontness'][0]\n",
        "        elif frontness_per < frontness_des:\n",
        "          f_feedback=feedback_dict['frontness'][1]\n",
        "\n",
        "        #Checking rounding\n",
        "        if rounded_per==False != rounded_des:\n",
        "          r_feedback=feedback_dict['rounding'][0]\n",
        "        elif rounded_per==True != rounded_des:\n",
        "          r_feedback=feedback_dict['rounding'][1]\n",
        "\n",
        "    #returns tuple with four values \n",
        "    return a_feedback, r_feedback, o_feedback, f_feedback"
      ],
      "metadata": {
        "id": "jRdpblgEZUjI"
      },
      "execution_count": null,
      "outputs": []
    },
    {
      "cell_type": "markdown",
      "source": [
        "Running the function:"
      ],
      "metadata": {
        "id": "3Y07yq0rNR8z"
      }
    },
    {
      "cell_type": "code",
      "source": [
        "#the vowel you are trying to say\n",
        "desired_vowel ='y' \n",
        "\n",
        "#the vowel you are actually saying\n",
        "perceived_vowel='u'\n",
        "\n",
        "vowel_feedback(desired_vowel, perceived_vowel)"
      ],
      "metadata": {
        "colab": {
          "base_uri": "https://localhost:8080/"
        },
        "id": "DBpOHJQlzfE4",
        "outputId": "5e5cd684-36f9-4b34-92c0-6e684cd541cc"
      },
      "execution_count": 75,
      "outputs": [
        {
          "output_type": "execute_result",
          "data": {
            "text/plain": [
              "('', '', '', 'Move your tongue forward!')"
            ]
          },
          "metadata": {},
          "execution_count": 75
        }
      ]
    }
  ]
}