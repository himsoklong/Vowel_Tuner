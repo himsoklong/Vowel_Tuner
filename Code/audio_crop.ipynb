{
 "cells": [
  {
   "cell_type": "code",
   "execution_count": 1,
   "id": "35dc25cc",
   "metadata": {},
   "outputs": [],
   "source": [
    "import copy\n",
    "import matplotlib.pyplot as plt\n",
    "import numpy as np\n",
    "import os\n",
    "import random\n",
    "import torch\n",
    "import torch.nn as nn\n",
    "\n",
    "from skimage import io\n",
    "from skimage.transform import resize\n",
    "from torch.optim.lr_scheduler import ReduceLROnPlateau\n",
    "from torch.utils.data import DataLoader, Dataset\n",
    "from tqdm import tqdm\n",
    "\n",
    "random_state = 42\n",
    "gen = random.Random(random_state)\n",
    "\n",
    "data_dir = '../../allwavs/allvowl/corrected/extracted/img'\n",
    "files = os.listdir(data_dir)\n",
    "use_mel = True\n",
    "files = [file for file in files if ('mel' in file) == use_mel]\n",
    "#max_w = max(io.imread(data_dir + '/' + file).shape[1] for file in files)\n",
    "#print(max_w)\n",
    "gen.shuffle(files)\n",
    "max_w = 31 # Measured"
   ]
  },
  {
   "cell_type": "code",
   "execution_count": 2,
   "id": "4ac37c26",
   "metadata": {},
   "outputs": [],
   "source": [
    "def init_weights(m):\n",
    "    if isinstance(m, nn.Linear) or isinstance(m, nn.Conv2d):\n",
    "        torch.nn.init.xavier_uniform_(m.weight.data)\n",
    "        m.bias.data.fill_(0.01)\n",
    "    return"
   ]
  },
  {
   "cell_type": "code",
   "execution_count": 3,
   "id": "21463565",
   "metadata": {},
   "outputs": [
    {
     "name": "stderr",
     "output_type": "stream",
     "text": [
      "100%|████████████████████████████████████████████████████████████████████████████████████████████████████████| 3558/3558 [01:00<00:00, 58.51it/s]\n",
      "100%|██████████████████████████████████████████████████████████████████████████████████████████████████████████| 408/408 [00:07<00:00, 53.35it/s]\n"
     ]
    }
   ],
   "source": [
    "class SpectrumDataset(Dataset):\n",
    "    def __init__(self, data_dir, files):\n",
    "        self.data_dir = data_dir\n",
    "        self.files = [file for file in files if '~' not in file.split('__')[0]]\n",
    "        gen.shuffle(self.files)\n",
    "        all_phonemes = ['l', 'm', 'p', 's', 't', 't1']\n",
    "        self.data = []\n",
    "        for file in tqdm(self.files):\n",
    "            split = file.split('__')\n",
    "        \n",
    "            gender = split[1]\n",
    "            begin_time = float(split[2])\n",
    "            end_time = float(split[3])\n",
    "            phonemes = split[4].split('_')\n",
    "            \n",
    "            image = io.imread(self.data_dir + '/' + file, as_gray=True)\n",
    "            image = resize(image, (image.shape[0], max_w), anti_aliasing=False)\n",
    "            \n",
    "            label = (begin_time, end_time)\n",
    "            self.data.append((\n",
    "            (torch.tensor(image).float(),\n",
    "             torch.tensor([gender == 'f', len(phonemes) == 2, *[phonemes[0] == x for x in all_phonemes]])\n",
    "            ), torch.tensor(label)))\n",
    "\n",
    "    def __len__(self):\n",
    "        return len(self.data)\n",
    "\n",
    "    def __getitem__(self, idx):\n",
    "        return self.data[idx]\n",
    "\n",
    "l = len(files)\n",
    "train_size = 0.9\n",
    "cutoff = int(l*train_size)\n",
    "\n",
    "train_set = SpectrumDataset(data_dir, files[:cutoff])\n",
    "test_set = SpectrumDataset(data_dir, files[cutoff:])"
   ]
  },
  {
   "cell_type": "code",
   "execution_count": 4,
   "id": "b3d8c22e",
   "metadata": {},
   "outputs": [
    {
     "name": "stdout",
     "output_type": "stream",
     "text": [
      "tensor([[0.9947, 0.9924, 0.9952,  ..., 0.9976, 0.9962, 0.9973],\n",
      "        [0.9319, 0.9297, 0.9324,  ..., 0.8818, 0.8679, 0.8793],\n",
      "        [0.8234, 0.8200, 0.8242,  ..., 0.7612, 0.7500, 0.7591],\n",
      "        ...,\n",
      "        [0.5519, 0.5599, 0.5502,  ..., 0.4388, 0.4931, 0.4487],\n",
      "        [0.5627, 0.6139, 0.5513,  ..., 0.4930, 0.5264, 0.4991],\n",
      "        [0.5980, 0.6492, 0.5866,  ..., 0.5283, 0.5617, 0.5343]])\n",
      "tensor([ True, False, False, False, False, False, False,  True])\n",
      "tensor([0.2400, 0.8000])\n"
     ]
    },
    {
     "data": {
      "text/plain": [
       "Text(0.5, 1.0, 'tensor([0.2400, 0.8000])')"
      ]
     },
     "execution_count": 4,
     "metadata": {},
     "output_type": "execute_result"
    },
    {
     "data": {
      "image/png": "[encoded data removed]",
      "text/plain": [
       "<Figure size 432x288 with 1 Axes>"
      ]
     },
     "metadata": {
      "needs_background": "light"
     },
     "output_type": "display_data"
    }
   ],
   "source": [
    "(im, features), label = train_set[0]\n",
    "print(im)\n",
    "print(features)\n",
    "print(label)\n",
    "plt.imshow(im.numpy(), cmap='gray')\n",
    "plt.title(label)"
   ]
  },
  {
   "cell_type": "code",
   "execution_count": 5,
   "id": "ebb53d74",
   "metadata": {},
   "outputs": [],
   "source": [
    "class CNNRegressor(nn.Module):\n",
    "    def __init__(self):\n",
    "        super(CNNRegressor, self).__init__()\n",
    "        \n",
    "        self.cnn_layer1 = nn.Sequential(nn.Conv2d(1, 16, kernel_size=3, padding='valid'),\n",
    "                                        nn.ReLU(),\n",
    "                                        nn.Dropout(0.1),\n",
    "                                        nn.BatchNorm2d(16),\n",
    "                                        nn.MaxPool2d(kernel_size=2))\n",
    "        self.cnn_layer2 = nn.Sequential(nn.Conv2d(16, 32, kernel_size=3, padding='valid'),\n",
    "                                        nn.ReLU(),\n",
    "                                        nn.Dropout(0.2),\n",
    "                                        nn.BatchNorm2d(32),\n",
    "                                        nn.MaxPool2d(kernel_size=2))\n",
    "        self.linear_layer1 = nn.Linear(32*30*6 + 8, 64)\n",
    "        self.dropout1 = nn.Dropout(0.5)\n",
    "        self.activ1 = nn.ReLU()\n",
    "        self.linear_layer_p = nn.Linear(64, 32)\n",
    "        self.dropout_p = nn.Dropout(0.5)\n",
    "        self.activ_p = nn.ReLU()\n",
    "        self.linear_layer2 = nn.Linear(32, 2)\n",
    "        self.activ2 = nn.Sigmoid()\n",
    "        \n",
    "    def forward(self, images, features):\n",
    "        images = images.unsqueeze(1)\n",
    "        \n",
    "        cnn1 = self.cnn_layer1(images)\n",
    "        cnn2 = self.cnn_layer2(cnn1)\n",
    "        cnn_vec = cnn2.reshape(cnn2.shape[0], -1)\n",
    "        cnn_cb = torch.cat((cnn_vec, features), dim=1)\n",
    "        out = self.linear_layer1(cnn_cb)\n",
    "        out = self.activ1(out)\n",
    "        out = self.dropout1(out)\n",
    "        out = self.linear_layer_p(out)\n",
    "        out = self.dropout_p(out)\n",
    "        out = self.activ_p(out)\n",
    "        out2 = self.linear_layer2(out)\n",
    "        out2 = self.activ2(out2)\n",
    "        return out2"
   ]
  },
  {
   "cell_type": "code",
   "execution_count": 6,
   "id": "bf87cac1",
   "metadata": {},
   "outputs": [],
   "source": [
    "def eval_cnn_regressor(model, eval_dataloader, loss_fn):\n",
    "    model.eval()\n",
    "    total_loss = 0\n",
    "    with torch.no_grad():\n",
    "        for (images, features), labels in eval_dataloader:\n",
    "            images = images.cuda()\n",
    "            features = features.cuda()\n",
    "            labels = labels.cuda()\n",
    "            y_predicted = model(images, features)\n",
    "            loss = loss_fn(y_predicted, labels)\n",
    "            total_loss += loss.item()\n",
    "    return total_loss/len(eval_dataloader)\n",
    "\n",
    "def training_cnn_regressor(model, train_dataloader, num_epochs, loss_fn, learning_rate, verbose=True):\n",
    "    model_tr = copy.deepcopy(model)\n",
    "    model_tr.train()\n",
    "    optimizer = torch.optim.AdamW(model_tr.parameters(), lr=0.001)\n",
    "    scheduler = ReduceLROnPlateau(optimizer, 'min')\n",
    "    loss_all_epochs = []\n",
    "    test_loss_all_epochs = []\n",
    "\n",
    "    if verbose:\n",
    "        print(f'Epoch [0/{num_epochs}], Loss: {100*eval_cnn_regressor(model_tr, train_dataloader, loss_fn):.4f}, Test loss: {100*eval_cnn_regressor(model_tr, test_dataloader, loss_fn):.4f}')\n",
    "    \n",
    "    total = len(train_dataloader)\n",
    "    for epoch in range(num_epochs):\n",
    "        loss_current_epoch = 0\n",
    "        for (images, features), labels in tqdm(train_dataloader, total=total):\n",
    "            images = images.cuda()\n",
    "            features = features.cuda()\n",
    "            labels = labels.cuda()\n",
    "            y_predicted = model_tr(images, features)\n",
    "            loss = loss_fn(y_predicted, labels)\n",
    "            optimizer.zero_grad()\n",
    "            loss.backward()\n",
    "            optimizer.step()\n",
    "            \n",
    "            loss_current_epoch += loss.item()\n",
    "        \n",
    "        loss_all_epochs.append(loss_current_epoch / total)\n",
    "        test_loss = eval_cnn_regressor(model_tr, test_dataloader, loss_fn)\n",
    "        test_loss_all_epochs.append(test_loss)\n",
    "        if verbose:\n",
    "            print(f'Epoch [{epoch+1}/{num_epochs}], Loss: {100*loss_current_epoch / total:.4f}, Test loss: {100*test_loss:.4f}')\n",
    "        \n",
    "    return model_tr, loss_all_epochs, test_loss_all_epochs"
   ]
  },
  {
   "cell_type": "code",
   "execution_count": 8,
   "id": "8e39580b",
   "metadata": {
    "scrolled": false
   },
   "outputs": [
    {
     "name": "stdout",
     "output_type": "stream",
     "text": [
      "Total number of parameters:  376258\n",
      "Epoch [0/23], Loss: 73.6072, Test loss: 73.6172\n"
     ]
    },
    {
     "name": "stderr",
     "output_type": "stream",
     "text": [
      "100%|███████████████████████████████████████████████████████████████████████████████████████████████████████| 3558/3558 [00:11<00:00, 298.96it/s]\n"
     ]
    },
    {
     "name": "stdout",
     "output_type": "stream",
     "text": [
      "Epoch [1/23], Loss: 36.3995, Test loss: 35.0899\n"
     ]
    },
    {
     "name": "stderr",
     "output_type": "stream",
     "text": [
      "100%|███████████████████████████████████████████████████████████████████████████████████████████████████████| 3558/3558 [00:11<00:00, 317.92it/s]\n"
     ]
    },
    {
     "name": "stdout",
     "output_type": "stream",
     "text": [
      "Epoch [2/23], Loss: 35.0764, Test loss: 34.8913\n"
     ]
    },
    {
     "name": "stderr",
     "output_type": "stream",
     "text": [
      "100%|███████████████████████████████████████████████████████████████████████████████████████████████████████| 3558/3558 [00:11<00:00, 310.41it/s]\n"
     ]
    },
    {
     "name": "stdout",
     "output_type": "stream",
     "text": [
      "Epoch [3/23], Loss: 34.8671, Test loss: 34.9135\n"
     ]
    },
    {
     "name": "stderr",
     "output_type": "stream",
     "text": [
      "100%|███████████████████████████████████████████████████████████████████████████████████████████████████████| 3558/3558 [00:11<00:00, 322.94it/s]\n"
     ]
    },
    {
     "name": "stdout",
     "output_type": "stream",
     "text": [
      "Epoch [4/23], Loss: 34.7830, Test loss: 34.9783\n"
     ]
    },
    {
     "name": "stderr",
     "output_type": "stream",
     "text": [
      "100%|███████████████████████████████████████████████████████████████████████████████████████████████████████| 3558/3558 [00:11<00:00, 319.81it/s]\n"
     ]
    },
    {
     "name": "stdout",
     "output_type": "stream",
     "text": [
      "Epoch [5/23], Loss: 34.7032, Test loss: 34.7404\n"
     ]
    },
    {
     "name": "stderr",
     "output_type": "stream",
     "text": [
      "100%|███████████████████████████████████████████████████████████████████████████████████████████████████████| 3558/3558 [00:11<00:00, 316.29it/s]\n"
     ]
    },
    {
     "name": "stdout",
     "output_type": "stream",
     "text": [
      "Epoch [6/23], Loss: 34.5547, Test loss: 34.8254\n"
     ]
    },
    {
     "name": "stderr",
     "output_type": "stream",
     "text": [
      "100%|███████████████████████████████████████████████████████████████████████████████████████████████████████| 3558/3558 [00:12<00:00, 287.66it/s]\n"
     ]
    },
    {
     "name": "stdout",
     "output_type": "stream",
     "text": [
      "Epoch [7/23], Loss: 34.5173, Test loss: 34.6339\n"
     ]
    },
    {
     "name": "stderr",
     "output_type": "stream",
     "text": [
      "100%|███████████████████████████████████████████████████████████████████████████████████████████████████████| 3558/3558 [00:11<00:00, 304.24it/s]\n"
     ]
    },
    {
     "name": "stdout",
     "output_type": "stream",
     "text": [
      "Epoch [8/23], Loss: 34.4267, Test loss: 34.6214\n"
     ]
    },
    {
     "name": "stderr",
     "output_type": "stream",
     "text": [
      "100%|███████████████████████████████████████████████████████████████████████████████████████████████████████| 3558/3558 [00:11<00:00, 301.43it/s]\n"
     ]
    },
    {
     "name": "stdout",
     "output_type": "stream",
     "text": [
      "Epoch [9/23], Loss: 34.3467, Test loss: 34.9184\n"
     ]
    },
    {
     "name": "stderr",
     "output_type": "stream",
     "text": [
      "100%|███████████████████████████████████████████████████████████████████████████████████████████████████████| 3558/3558 [00:11<00:00, 316.93it/s]\n"
     ]
    },
    {
     "name": "stdout",
     "output_type": "stream",
     "text": [
      "Epoch [10/23], Loss: 34.2751, Test loss: 34.6288\n"
     ]
    },
    {
     "name": "stderr",
     "output_type": "stream",
     "text": [
      "100%|███████████████████████████████████████████████████████████████████████████████████████████████████████| 3558/3558 [00:10<00:00, 333.76it/s]\n"
     ]
    },
    {
     "name": "stdout",
     "output_type": "stream",
     "text": [
      "Epoch [11/23], Loss: 34.2293, Test loss: 34.6372\n"
     ]
    },
    {
     "name": "stderr",
     "output_type": "stream",
     "text": [
      "100%|███████████████████████████████████████████████████████████████████████████████████████████████████████| 3558/3558 [00:11<00:00, 319.38it/s]\n"
     ]
    },
    {
     "name": "stdout",
     "output_type": "stream",
     "text": [
      "Epoch [12/23], Loss: 34.1953, Test loss: 34.6748\n"
     ]
    },
    {
     "name": "stderr",
     "output_type": "stream",
     "text": [
      "100%|███████████████████████████████████████████████████████████████████████████████████████████████████████| 3558/3558 [00:11<00:00, 318.16it/s]\n"
     ]
    },
    {
     "name": "stdout",
     "output_type": "stream",
     "text": [
      "Epoch [13/23], Loss: 34.1594, Test loss: 34.5837\n"
     ]
    },
    {
     "name": "stderr",
     "output_type": "stream",
     "text": [
      "100%|███████████████████████████████████████████████████████████████████████████████████████████████████████| 3558/3558 [00:10<00:00, 328.15it/s]\n"
     ]
    },
    {
     "name": "stdout",
     "output_type": "stream",
     "text": [
      "Epoch [14/23], Loss: 34.1342, Test loss: 34.6449\n"
     ]
    },
    {
     "name": "stderr",
     "output_type": "stream",
     "text": [
      "100%|███████████████████████████████████████████████████████████████████████████████████████████████████████| 3558/3558 [00:11<00:00, 308.18it/s]\n"
     ]
    },
    {
     "name": "stdout",
     "output_type": "stream",
     "text": [
      "Epoch [15/23], Loss: 34.1201, Test loss: 34.7580\n"
     ]
    },
    {
     "name": "stderr",
     "output_type": "stream",
     "text": [
      "100%|███████████████████████████████████████████████████████████████████████████████████████████████████████| 3558/3558 [00:11<00:00, 322.40it/s]\n"
     ]
    },
    {
     "name": "stdout",
     "output_type": "stream",
     "text": [
      "Epoch [16/23], Loss: 34.0626, Test loss: 34.6146\n"
     ]
    },
    {
     "name": "stderr",
     "output_type": "stream",
     "text": [
      "100%|███████████████████████████████████████████████████████████████████████████████████████████████████████| 3558/3558 [00:10<00:00, 331.15it/s]\n"
     ]
    },
    {
     "name": "stdout",
     "output_type": "stream",
     "text": [
      "Epoch [17/23], Loss: 34.0859, Test loss: 34.6115\n"
     ]
    },
    {
     "name": "stderr",
     "output_type": "stream",
     "text": [
      "100%|███████████████████████████████████████████████████████████████████████████████████████████████████████| 3558/3558 [00:11<00:00, 315.15it/s]\n"
     ]
    },
    {
     "name": "stdout",
     "output_type": "stream",
     "text": [
      "Epoch [18/23], Loss: 34.0748, Test loss: 34.5928\n"
     ]
    },
    {
     "name": "stderr",
     "output_type": "stream",
     "text": [
      "100%|███████████████████████████████████████████████████████████████████████████████████████████████████████| 3558/3558 [00:12<00:00, 276.93it/s]\n"
     ]
    },
    {
     "name": "stdout",
     "output_type": "stream",
     "text": [
      "Epoch [19/23], Loss: 34.0092, Test loss: 35.0778\n"
     ]
    },
    {
     "name": "stderr",
     "output_type": "stream",
     "text": [
      "100%|███████████████████████████████████████████████████████████████████████████████████████████████████████| 3558/3558 [00:10<00:00, 327.87it/s]\n"
     ]
    },
    {
     "name": "stdout",
     "output_type": "stream",
     "text": [
      "Epoch [20/23], Loss: 34.0475, Test loss: 34.6021\n"
     ]
    },
    {
     "name": "stderr",
     "output_type": "stream",
     "text": [
      "100%|███████████████████████████████████████████████████████████████████████████████████████████████████████| 3558/3558 [00:11<00:00, 305.67it/s]\n"
     ]
    },
    {
     "name": "stdout",
     "output_type": "stream",
     "text": [
      "Epoch [21/23], Loss: 33.9874, Test loss: 34.7914\n"
     ]
    },
    {
     "name": "stderr",
     "output_type": "stream",
     "text": [
      "100%|███████████████████████████████████████████████████████████████████████████████████████████████████████| 3558/3558 [00:11<00:00, 311.95it/s]\n"
     ]
    },
    {
     "name": "stdout",
     "output_type": "stream",
     "text": [
      "Epoch [22/23], Loss: 33.9942, Test loss: 34.5884\n"
     ]
    },
    {
     "name": "stderr",
     "output_type": "stream",
     "text": [
      "100%|███████████████████████████████████████████████████████████████████████████████████████████████████████| 3558/3558 [00:10<00:00, 331.23it/s]\n"
     ]
    },
    {
     "name": "stdout",
     "output_type": "stream",
     "text": [
      "Epoch [23/23], Loss: 34.0468, Test loss: 34.6427\n"
     ]
    },
    {
     "data": {
      "image/png": "[encoded data removed]",
      "text/plain": [
       "<Figure size 432x288 with 1 Axes>"
      ]
     },
     "metadata": {
      "needs_background": "light"
     },
     "output_type": "display_data"
    }
   ],
   "source": [
    "batch_size = 1\n",
    "train_dataloader = DataLoader(train_set, shuffle=True, batch_size=batch_size)\n",
    "test_dataloader = DataLoader(test_set, batch_size=batch_size)\n",
    "\n",
    "model = CNNRegressor()\n",
    "\n",
    "print('Total number of parameters: ', \n",
    "      sum(p.numel() for p in model.parameters()))\n",
    "\n",
    "torch.manual_seed(0)\n",
    "model.apply(init_weights)\n",
    "\n",
    "num_epochs = 23\n",
    "loss_fn = nn.BCELoss()\n",
    "learning_rate = 0.01\n",
    "\n",
    "model.cuda()\n",
    "model, loss_total, test_loss_total = training_cnn_regressor(model, train_dataloader, num_epochs, loss_fn, learning_rate, verbose=True)\n",
    "\n",
    "torch.save(model.state_dict(), 'model_cnn_regression.pt')\n",
    "plt.plot(loss_total, label='Train loss')\n",
    "plt.plot(test_loss_total, label='Test loss')\n",
    "plt.legend()\n",
    "\n",
    "plt.show()"
   ]
  },
  {
   "cell_type": "code",
   "execution_count": 9,
   "id": "0a849426",
   "metadata": {},
   "outputs": [
    {
     "name": "stdout",
     "output_type": "stream",
     "text": [
      "tensor([0.4815, 1.0000]) tensor([0.6258, 1.0000]) 0.010411578230559826 -\n",
      "tensor([0.8286, 0.9143]) tensor([0.3152, 0.8295]) 0.1353638470172882 -------------\n",
      "tensor([0.8065, 1.0000]) tensor([0.5711, 1.0000]) 0.02768407016992569 --\n",
      "tensor([0.7000, 1.0000]) tensor([0.3348, 1.0000]) 0.0666699931025505 ------\n",
      "tensor([0.2333, 1.0000]) tensor([0.5076, 1.0000]) 0.03761231154203415 ---\n",
      "tensor([0.7407, 0.8518]) tensor([0.5782, 0.9184]) 0.015415070578455925 -\n",
      "tensor([0.1111, 1.0000]) tensor([0.5678, 1.0000]) 0.10429280996322632 ----------\n",
      "tensor([0.4074, 0.5185]) tensor([0.5452, 0.7305]) 0.0319695882499218 ---\n",
      "tensor([0.1842, 0.9211]) tensor([0.3987, 0.8393]) 0.026350390166044235 --\n",
      "tensor([0.4688, 0.9062]) tensor([0.4775, 0.7409]) 0.013704388402402401 -\n",
      "tensor([0.1200, 1.0000]) tensor([0.4853, 1.0000]) 0.066727414727211 ------\n",
      "tensor([0.1562, 0.3125]) tensor([0.2071, 0.9144]) 0.18245363235473633 ------------------\n",
      "tensor([0.1539, 1.0000]) tensor([0.3307, 1.0000]) 0.015642231330275536 -\n",
      "tensor([0.2000, 0.3667]) tensor([0.1921, 0.8273]) 0.10611817985773087 ----------\n",
      "tensor([0.2188, 0.3750]) tensor([0.2302, 0.8650]) 0.12011760473251343 ------------\n",
      "tensor([0.1000, 0.9000]) tensor([0.3386, 0.9031]) 0.028467422351241112 --\n",
      "tensor([0.7586, 1.0000]) tensor([0.6155, 1.0000]) 0.010248210281133652 -\n",
      "tensor([0.1429, 0.7429]) tensor([0.1849, 0.8983]) 0.012957584112882614 -\n",
      "tensor([0.3333, 0.6667]) tensor([0.5062, 0.8573]) 0.03311789780855179 ---\n",
      "tensor([0.4400, 1.0000]) tensor([0.2726, 1.0000]) 0.01401717308908701 -\n",
      "tensor([0.1111, 1.0000]) tensor([0.4050, 1.0000]) 0.043171513825654984 ----\n",
      "tensor([0.4583, 1.0000]) tensor([0.6934, 1.0000]) 0.027630625292658806 --\n",
      "tensor([0.2400, 1.0000]) tensor([0.3935, 1.0000]) 0.011788149364292622 -\n",
      "tensor([0.3023, 0.8605]) tensor([0.4931, 0.9018]) 0.019056551158428192 -\n",
      "tensor(1.4436)\n"
     ]
    }
   ],
   "source": [
    "total = 0\n",
    "for (im, ft), lb in list(test_dataloader):\n",
    "    im = im.cuda()\n",
    "    ft = ft.cuda()\n",
    "    y_pred = model(im, ft).detach().cpu()[0]\n",
    "    y_true = lb[0]\n",
    "    err = torch.mean((y_true - y_pred)**2)\n",
    "    total += err\n",
    "    out = '-'*int(err*100)\n",
    "    if out:\n",
    "        print(y_true, y_pred, err.item(), out)\n",
    "print(total)"
   ]
  },
  {
   "cell_type": "code",
   "execution_count": 378,
   "id": "2811681a",
   "metadata": {},
   "outputs": [
    {
     "data": {
      "text/plain": [
       "CNNRegressor(\n",
       "  (cnn_layer1): Sequential(\n",
       "    (0): Conv2d(1, 16, kernel_size=(3, 3), stride=(1, 1), padding=valid)\n",
       "    (1): ReLU()\n",
       "    (2): Dropout(p=0.1, inplace=False)\n",
       "    (3): BatchNorm2d(16, eps=1e-05, momentum=0.1, affine=True, track_running_stats=True)\n",
       "    (4): MaxPool2d(kernel_size=2, stride=2, padding=0, dilation=1, ceil_mode=False)\n",
       "  )\n",
       "  (cnn_layer2): Sequential(\n",
       "    (0): Conv2d(16, 32, kernel_size=(3, 3), stride=(1, 1), padding=valid)\n",
       "    (1): ReLU()\n",
       "    (2): Dropout(p=0.2, inplace=False)\n",
       "    (3): BatchNorm2d(32, eps=1e-05, momentum=0.1, affine=True, track_running_stats=True)\n",
       "    (4): MaxPool2d(kernel_size=2, stride=2, padding=0, dilation=1, ceil_mode=False)\n",
       "  )\n",
       "  (linear_layer1): Linear(in_features=5768, out_features=64, bias=True)\n",
       "  (dropout1): Dropout(p=0.5, inplace=False)\n",
       "  (activ1): ReLU()\n",
       "  (linear_layer_p): Linear(in_features=64, out_features=32, bias=True)\n",
       "  (dropout_p): Dropout(p=0.5, inplace=False)\n",
       "  (activ_p): ReLU()\n",
       "  (linear_layer2): Linear(in_features=32, out_features=2, bias=True)\n",
       "  (activ2): Sigmoid()\n",
       ")"
      ]
     },
     "execution_count": 378,
     "metadata": {},
     "output_type": "execute_result"
    }
   ],
   "source": [
    "model4"
   ]
  },
  {
   "cell_type": "code",
   "execution_count": 10,
   "id": "c5de34bb",
   "metadata": {},
   "outputs": [],
   "source": [
    "torch.save(model, 'model_cnn_regress.fl')"
   ]
  },
  {
   "cell_type": "code",
   "execution_count": null,
   "id": "cda80768",
   "metadata": {},
   "outputs": [],
   "source": []
  }
 ],
 "metadata": {
  "kernelspec": {
   "display_name": "Lambda Notebook (Python 3)",
   "language": "python",
   "name": "lambda-notebook"
  },
  "language_info": {
   "codemirror_mode": {
    "name": "ipython",
    "version": 3
   },
   "file_extension": ".py",
   "mimetype": "text/x-python",
   "name": "python",
   "nbconvert_exporter": "python",
   "pygments_lexer": "ipython3",
   "version": "3.10.6"
  }
 },
 "nbformat": 4,
 "nbformat_minor": 5
}
