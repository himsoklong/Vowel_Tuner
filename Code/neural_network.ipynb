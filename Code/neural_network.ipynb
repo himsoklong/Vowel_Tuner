{
 "cells": [
  {
   "cell_type": "code",
   "execution_count": 17,
   "id": "2a923666",
   "metadata": {},
   "outputs": [],
   "source": [
    "import copy\n",
    "import matplotlib.pyplot as plt\n",
    "import numpy as np\n",
    "import os\n",
    "import random\n",
    "import torch\n",
    "import torch.nn as nn\n",
    "\n",
    "from skimage import io\n",
    "from torchvision import transforms\n",
    "from torch.utils.data import DataLoader, Dataset\n",
    "from tqdm import tqdm\n",
    "\n",
    "random_state = 42\n",
    "gen = random.Random(random_state)\n",
    "\n",
    "trimmed = False\n",
    "max_w = 1165 if not trimmed else 643# Measured\n",
    "data_dir = '../../allwavs/allvowl/extracted/' + 'trimmed/'*trimmed + 'img/'\n",
    "files = os.listdir(data_dir)\n",
    "use_mel = True\n",
    "files = [file for file in files if ('mel' in file) == use_mel]\n",
    "gen.shuffle(files)"
   ]
  },
  {
   "cell_type": "code",
   "execution_count": 18,
   "id": "70190926",
   "metadata": {},
   "outputs": [],
   "source": [
    "def init_weights(m):\n",
    "    if isinstance(m, nn.Linear) or isinstance(m, nn.Conv2d):\n",
    "        torch.nn.init.xavier_uniform_(m.weight.data)\n",
    "        m.bias.data.fill_(0.01)\n",
    "    return"
   ]
  },
  {
   "cell_type": "code",
   "execution_count": 19,
   "id": "c651a72d",
   "metadata": {},
   "outputs": [],
   "source": [
    "class SpectrumDataset(Dataset):\n",
    "    def __init__(self, data_dir, files):\n",
    "        self.data_dir = data_dir\n",
    "        self.files = [file for file in files if '~' not in file.split('__')[0]]\n",
    "        gen.shuffle(self.files)\n",
    "        self.idx2lbl = ['2', '9', 'a', 'E', 'e', 'i', 'o', 'O', 'u', 'y']\n",
    "        self.lbl2idx = {label: i for i, label in enumerate(self.idx2lbl)}\n",
    "\n",
    "    def __len__(self):\n",
    "        return len(self.files)\n",
    "\n",
    "    def __getitem__(self, idx):\n",
    "        image_np = io.imread(self.data_dir + '/' + self.files[idx], as_gray=True)\n",
    "        image_np = np.pad(1 - image_np, [(0, 0), (0, max_w - image_np.shape[1])], mode='constant', constant_values=0)\n",
    "        label = self.files[idx].split('__')[0].replace('E+', 'E').replace('@', '9')\n",
    "        return (torch.tensor(image_np).float(), self.lbl2idx[label])\n",
    "\n",
    "l = len(files)\n",
    "train_size = 0.9\n",
    "cutoff = int(l*train_size)\n",
    "\n",
    "train_set = SpectrumDataset(data_dir, files[:cutoff])\n",
    "test_set = SpectrumDataset(data_dir, files[cutoff:])"
   ]
  },
  {
   "cell_type": "code",
   "execution_count": 20,
   "id": "928e3ca7",
   "metadata": {},
   "outputs": [
    {
     "data": {
      "text/plain": [
       "Text(0.5, 1.0, '6')"
      ]
     },
     "execution_count": 20,
     "metadata": {},
     "output_type": "execute_result"
    },
    {
     "data": {
      "image/png": "[encoded data removed]",
      "text/plain": [
       "<Figure size 432x288 with 1 Axes>"
      ]
     },
     "metadata": {
      "needs_background": "light"
     },
     "output_type": "display_data"
    }
   ],
   "source": [
    "im, label = train_set[0]\n",
    "plt.imshow(im.numpy(), cmap='gray')\n",
    "plt.title(label)"
   ]
  },
  {
   "cell_type": "code",
   "execution_count": 30,
   "id": "1c0c96c9",
   "metadata": {},
   "outputs": [],
   "source": [
    "class CNNClassifier(nn.Module):\n",
    "    def __init__(self, num_classes=10):\n",
    "        super(CNNClassifier, self).__init__()\n",
    "        \n",
    "        self.cnn_layer1 = nn.Sequential(nn.Conv2d(1, 16, kernel_size=3),\n",
    "                                        nn.ReLU(),\n",
    "                                        #nn.BatchNorm2d(16),\n",
    "                                        nn.MaxPool2d(kernel_size=3))\n",
    "        self.cnn_layer2 = nn.Sequential(nn.Conv2d(16, 32, kernel_size=3),\n",
    "                                        nn.ReLU(),\n",
    "                                        #nn.BatchNorm2d(32),\n",
    "                                        nn.MaxPool2d(kernel_size=3))\n",
    "        self.dropout = nn.Dropout(0.5)\n",
    "        self.linear_layer1 = nn.Sequential(nn.Linear(32*29*(70 if trimmed else 128), 64),\n",
    "                                           nn.ReLU())\n",
    "        self.linear_layer2 = nn.Sequential(nn.Linear(64, num_classes))\n",
    "        \n",
    "        #self.cnn_layer1 = nn.Sequential(nn.Conv2d(1, 16, kernel_size=5, padding=2),\n",
    "        #                                nn.ReLU(),\n",
    "        #                                #nn.BatchNorm2d(16),\n",
    "        #                                nn.MaxPool2d(kernel_size=5))\n",
    "        #self.cnn_layer2 = nn.Sequential(nn.Conv2d(16, 32, kernel_size=5, padding=2),\n",
    "        #                                nn.ReLU(),\n",
    "        #                                #nn.BatchNorm2d(32),\n",
    "        #                                nn.MaxPool2d(kernel_size=5))\n",
    "        #self.linear_layer1 = nn.Linear(32*10*25, num_classes)\n",
    "        \n",
    "    def forward(self, x):\n",
    "        x = x.unsqueeze(1)\n",
    "        out1 = self.cnn_layer1(x)\n",
    "        out2 = self.cnn_layer2(out1)\n",
    "        #out2 = self.dropout(out2)\n",
    "        out_vec = out2.reshape(out2.shape[0], -1)\n",
    "        out = self.linear_layer1(out_vec)\n",
    "        #out2 = self.linear_layer2(out)\n",
    "        return out#2"
   ]
  },
  {
   "cell_type": "code",
   "execution_count": 31,
   "id": "4a27de62",
   "metadata": {},
   "outputs": [],
   "source": [
    "def eval_cnn_classifier(model, eval_dataloader):\n",
    "    model.eval() \n",
    "    with torch.no_grad():\n",
    "        correct = 0\n",
    "        total = 0\n",
    "        for images, labels in eval_dataloader:\n",
    "            images = images.cuda()\n",
    "            labels = labels.cuda()\n",
    "            y_predicted = model(images)\n",
    "            _, label_predicted = torch.max(y_predicted.data, 1)\n",
    "            total += labels.size(0)\n",
    "            correct += (label_predicted == labels).sum().item()\n",
    "    accuracy = 100 * correct / total\n",
    "    return accuracy\n",
    "\n",
    "def training_cnn_classifier(model, train_dataloader, num_epochs, loss_fn, learning_rate, verbose=True):\n",
    "    model_tr = copy.deepcopy(model)\n",
    "    model_tr.train()\n",
    "    optimizer = torch.optim.SGD(model_tr.parameters(), lr=learning_rate)\n",
    "    loss_all_epochs = []\n",
    "    test_acc_all_epochs = []\n",
    "\n",
    "    if verbose:\n",
    "        print(f'Epoch [0/{num_epochs}], Loss: N/A, Test acc: {eval_cnn_classifier(model_tr, test_dataloader):.4f}%')\n",
    "    \n",
    "    for epoch in range(num_epochs):\n",
    "        loss_current_epoch = 0\n",
    "        for batch_index, (images, labels) in tqdm(enumerate(train_dataloader), total=len(train_dataloader)):\n",
    "            images = images.cuda()\n",
    "            labels = labels.cuda()\n",
    "            pred_labels = model_tr(images)\n",
    "\n",
    "            loss = loss_fn(pred_labels, labels)\n",
    "            optimizer.zero_grad()\n",
    "            loss.backward()\n",
    "            optimizer.step()\n",
    "            \n",
    "            loss_current_epoch += loss.item()\n",
    "        \n",
    "        loss_all_epochs.append(loss_current_epoch)\n",
    "        test_acc = eval_cnn_classifier(model_tr, test_dataloader)\n",
    "        test_acc_all_epochs.append(test_acc)\n",
    "        if verbose:\n",
    "            print(f'Epoch [{epoch+1}/{num_epochs}], Loss: {loss_current_epoch:.4f}, Test acc: {test_acc:.4f}%')\n",
    "        \n",
    "    return model_tr, loss_all_epochs, test_acc_all_epochs"
   ]
  },
  {
   "cell_type": "code",
   "execution_count": null,
   "id": "8dbf874c",
   "metadata": {
    "scrolled": false
   },
   "outputs": [
    {
     "name": "stdout",
     "output_type": "stream",
     "text": [
      "Total number of parameters:  7607690\n"
     ]
    },
    {
     "name": "stderr",
     "output_type": "stream",
     "text": [
      "  0%|▎                                                                                                          | 3/1132 [00:00<00:50, 22.55it/s]"
     ]
    },
    {
     "name": "stdout",
     "output_type": "stream",
     "text": [
      "Epoch [0/50], Loss: N/A, Test acc: 0.0000%\n"
     ]
    },
    {
     "name": "stderr",
     "output_type": "stream",
     "text": [
      "100%|████████████████████████████████████████████████████████████████████████████████████████████████████████| 1132/1132 [00:29<00:00, 38.08it/s]\n",
      "  0%|▍                                                                                                          | 4/1132 [00:00<00:30, 36.86it/s]"
     ]
    },
    {
     "name": "stdout",
     "output_type": "stream",
     "text": [
      "Epoch [1/50], Loss: 3960.8211, Test acc: 14.2857%\n"
     ]
    },
    {
     "name": "stderr",
     "output_type": "stream",
     "text": [
      "100%|████████████████████████████████████████████████████████████████████████████████████████████████████████| 1132/1132 [00:31<00:00, 35.41it/s]\n",
      "  0%|▍                                                                                                          | 4/1132 [00:00<00:32, 34.98it/s]"
     ]
    },
    {
     "name": "stdout",
     "output_type": "stream",
     "text": [
      "Epoch [2/50], Loss: 3049.8392, Test acc: 28.5714%\n"
     ]
    },
    {
     "name": "stderr",
     "output_type": "stream",
     "text": [
      "100%|████████████████████████████████████████████████████████████████████████████████████████████████████████| 1132/1132 [00:31<00:00, 35.92it/s]\n",
      "  0%|▍                                                                                                          | 4/1132 [00:00<00:34, 32.65it/s]"
     ]
    },
    {
     "name": "stdout",
     "output_type": "stream",
     "text": [
      "Epoch [3/50], Loss: 2309.6128, Test acc: 35.2941%\n"
     ]
    },
    {
     "name": "stderr",
     "output_type": "stream",
     "text": [
      "100%|████████████████████████████████████████████████████████████████████████████████████████████████████████| 1132/1132 [00:30<00:00, 36.61it/s]\n",
      "  0%|▍                                                                                                          | 5/1132 [00:00<00:29, 38.11it/s]"
     ]
    },
    {
     "name": "stdout",
     "output_type": "stream",
     "text": [
      "Epoch [4/50], Loss: 1844.0605, Test acc: 49.5798%\n"
     ]
    },
    {
     "name": "stderr",
     "output_type": "stream",
     "text": [
      "100%|████████████████████████████████████████████████████████████████████████████████████████████████████████| 1132/1132 [00:30<00:00, 36.67it/s]\n",
      "  0%|▍                                                                                                          | 4/1132 [00:00<00:33, 33.53it/s]"
     ]
    },
    {
     "name": "stdout",
     "output_type": "stream",
     "text": [
      "Epoch [5/50], Loss: 1377.4988, Test acc: 50.4202%\n"
     ]
    },
    {
     "name": "stderr",
     "output_type": "stream",
     "text": [
      "100%|████████████████████████████████████████████████████████████████████████████████████████████████████████| 1132/1132 [00:31<00:00, 36.45it/s]\n",
      "  0%|▍                                                                                                          | 4/1132 [00:00<00:31, 35.45it/s]"
     ]
    },
    {
     "name": "stdout",
     "output_type": "stream",
     "text": [
      "Epoch [6/50], Loss: 1123.8291, Test acc: 42.8571%\n"
     ]
    },
    {
     "name": "stderr",
     "output_type": "stream",
     "text": [
      "100%|████████████████████████████████████████████████████████████████████████████████████████████████████████| 1132/1132 [00:31<00:00, 35.90it/s]\n",
      "  0%|▎                                                                                                          | 3/1132 [00:00<00:42, 26.87it/s]"
     ]
    },
    {
     "name": "stdout",
     "output_type": "stream",
     "text": [
      "Epoch [7/50], Loss: 793.4097, Test acc: 50.4202%\n"
     ]
    },
    {
     "name": "stderr",
     "output_type": "stream",
     "text": [
      "100%|████████████████████████████████████████████████████████████████████████████████████████████████████████| 1132/1132 [00:30<00:00, 37.61it/s]\n",
      "  0%|▍                                                                                                          | 4/1132 [00:00<00:30, 36.94it/s]"
     ]
    },
    {
     "name": "stdout",
     "output_type": "stream",
     "text": [
      "Epoch [8/50], Loss: 567.0167, Test acc: 62.1849%\n"
     ]
    },
    {
     "name": "stderr",
     "output_type": "stream",
     "text": [
      "100%|████████████████████████████████████████████████████████████████████████████████████████████████████████| 1132/1132 [00:30<00:00, 36.70it/s]\n",
      "  0%|▍                                                                                                          | 4/1132 [00:00<00:35, 31.88it/s]"
     ]
    },
    {
     "name": "stdout",
     "output_type": "stream",
     "text": [
      "Epoch [9/50], Loss: 399.1148, Test acc: 62.1849%\n"
     ]
    },
    {
     "name": "stderr",
     "output_type": "stream",
     "text": [
      "100%|████████████████████████████████████████████████████████████████████████████████████████████████████████| 1132/1132 [00:30<00:00, 36.99it/s]\n",
      "  0%|▎                                                                                                          | 3/1132 [00:00<00:39, 28.29it/s]"
     ]
    },
    {
     "name": "stdout",
     "output_type": "stream",
     "text": [
      "Epoch [10/50], Loss: 330.0544, Test acc: 64.7059%\n"
     ]
    },
    {
     "name": "stderr",
     "output_type": "stream",
     "text": [
      "  8%|████████▌                                                                                                 | 91/1132 [00:02<00:28, 36.60it/s]"
     ]
    }
   ],
   "source": [
    "batch_size = 1\n",
    "train_dataloader = DataLoader(train_set, shuffle=True, batch_size=batch_size)\n",
    "test_dataloader = DataLoader(test_set, batch_size=batch_size)\n",
    "\n",
    "num_classes = 10\n",
    "model = CNNClassifier(num_classes)\n",
    "\n",
    "print('Total number of parameters: ', \n",
    "      sum(p.numel() for p in model.parameters()))\n",
    "\n",
    "torch.manual_seed(0)\n",
    "model.apply(init_weights)\n",
    "\n",
    "num_epochs = 50\n",
    "loss_fn = nn.CrossEntropyLoss()\n",
    "learning_rate = 0.01\n",
    "\n",
    "model.cuda()\n",
    "model, loss_total, test_acc_total = training_cnn_classifier(model, train_dataloader, num_epochs, loss_fn, learning_rate, verbose=True)\n",
    "\n",
    "torch.save(model.state_dict(), 'model_cnn_classif.pt')\n",
    "plt.plot(loss_total, label='loss')\n",
    "plt.plot([max(loss_total)*(100-x)/100 for x in test_acc_total], label='acc')\n",
    "plt.legend()\n",
    "plt.show()"
   ]
  },
  {
   "cell_type": "code",
   "execution_count": null,
   "id": "ffbb2043",
   "metadata": {},
   "outputs": [],
   "source": [
    "acc = eval_cnn_classifier(model, test_dataloader)\n",
    "print(acc)"
   ]
  },
  {
   "cell_type": "code",
   "execution_count": null,
   "id": "9b001be9",
   "metadata": {},
   "outputs": [],
   "source": []
  }
 ],
 "metadata": {
  "kernelspec": {
   "display_name": "Lambda Notebook (Python 3)",
   "language": "python",
   "name": "lambda-notebook"
  },
  "language_info": {
   "codemirror_mode": {
    "name": "ipython",
    "version": 3
   },
   "file_extension": ".py",
   "mimetype": "text/x-python",
   "name": "python",
   "nbconvert_exporter": "python",
   "pygments_lexer": "ipython3",
   "version": "3.10.6"
  }
 },
 "nbformat": 4,
 "nbformat_minor": 5
}
