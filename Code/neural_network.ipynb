{
 "cells": [
  {
   "cell_type": "code",
   "execution_count": 23,
   "id": "2a923666",
   "metadata": {},
   "outputs": [],
   "source": [
    "import copy\n",
    "import matplotlib.pyplot as plt\n",
    "import numpy as np\n",
    "import os\n",
    "import random\n",
    "import torch\n",
    "import torch.nn as nn\n",
    "\n",
    "from skimage import io\n",
    "from skimage.transform import resize\n",
    "from torchvision import transforms\n",
    "from torch.optim.lr_scheduler import ReduceLROnPlateau\n",
    "from torch.utils.data import DataLoader, Dataset\n",
    "from tqdm import tqdm\n",
    "\n",
    "random_state = 42\n",
    "gen = random.Random(random_state)\n",
    "\n",
    "trimmed = True\n",
    "data_dir = '../../allwavs/allvowl/corrected/extracted/' + 'trimmed/'*trimmed + 'img/'\n",
    "files = os.listdir(data_dir)\n",
    "use_mel = True\n",
    "files = [file for file in files if ('mel' in file) == use_mel]\n",
    "#max_w = max(io.imread(data_dir + '/' + file).shape[1] for file in tqdm(files))\n",
    "#print(max_w)\n",
    "max_w = 31 if not trimmed else 20# Measured\n",
    "gen.shuffle(files)"
   ]
  },
  {
   "cell_type": "code",
   "execution_count": 24,
   "id": "70190926",
   "metadata": {},
   "outputs": [],
   "source": [
    "def init_weights(m):\n",
    "    if isinstance(m, nn.Linear) or isinstance(m, nn.Conv2d):\n",
    "        torch.nn.init.xavier_uniform_(m.weight.data)\n",
    "        m.bias.data.fill_(0.01)\n",
    "    return"
   ]
  },
  {
   "cell_type": "code",
   "execution_count": 25,
   "id": "c651a72d",
   "metadata": {},
   "outputs": [
    {
     "name": "stderr",
     "output_type": "stream",
     "text": [
      "100%|████████████████████████████████████████████████████████████████████████████████████████████████████████| 3559/3559 [00:53<00:00, 66.80it/s]\n",
      "100%|██████████████████████████████████████████████████████████████████████████████████████████████████████████| 412/412 [00:06<00:00, 67.10it/s]\n"
     ]
    }
   ],
   "source": [
    "class SpectrumDataset(Dataset):\n",
    "    def __init__(self, data_dir, files):\n",
    "        self.data_dir = data_dir\n",
    "        self.files = [file for file in files if '~' not in file.split('__')[0]]\n",
    "        gen.shuffle(self.files)\n",
    "        self.idx2lbl = ['2', '9', 'a', 'E', 'e', 'i', 'o', 'O', 'u', 'y']\n",
    "        self.lbl2idx = {label: i for i, label in enumerate(self.idx2lbl)}\n",
    "        all_phonemes = ['l', 'm', 'p', 's', 't', 't1']\n",
    "        self.data = []\n",
    "        for file in tqdm(self.files):\n",
    "            split = file.split('__')\n",
    "        \n",
    "            gender = split[1]\n",
    "            phonemes = split[4].split('_')\n",
    "            \n",
    "            image = io.imread(self.data_dir + '/' + file, as_gray=True)\n",
    "            image = resize(image, (image.shape[0], max_w), anti_aliasing=False)\n",
    "            \n",
    "            label = file.split('__')[0].replace('E+', 'e').replace('@', '2')\n",
    "            \n",
    "            self.data.append((\n",
    "            (torch.tensor(image).float(),\n",
    "             torch.tensor([gender == 'f', *[phonemes[0] == x for x in all_phonemes]])\n",
    "            ), self.lbl2idx[label]))\n",
    "\n",
    "    def __len__(self):\n",
    "        return len(self.data)\n",
    "\n",
    "    def __getitem__(self, idx):\n",
    "        return self.data[idx]\n",
    "\n",
    "l = len(files)\n",
    "train_size = 0.9\n",
    "cutoff = int(l*train_size)\n",
    "\n",
    "train_set = SpectrumDataset(data_dir, files[:cutoff])\n",
    "test_set = SpectrumDataset(data_dir, files[cutoff:])"
   ]
  },
  {
   "cell_type": "code",
   "execution_count": 26,
   "id": "928e3ca7",
   "metadata": {},
   "outputs": [
    {
     "name": "stdout",
     "output_type": "stream",
     "text": [
      "tensor([[0.8294, 0.8294, 0.9431,  ..., 0.9196, 0.7588, 0.7588],\n",
      "        [0.7578, 0.7578, 0.8618,  ..., 0.8539, 0.7343, 0.7343],\n",
      "        [0.7039, 0.7039, 0.7941,  ..., 0.8275, 0.7255, 0.7255],\n",
      "        ...,\n",
      "        [0.3980, 0.3980, 0.4412,  ..., 0.4902, 0.5059, 0.5059],\n",
      "        [0.4324, 0.4324, 0.4735,  ..., 0.5490, 0.5569, 0.5569],\n",
      "        [0.4608, 0.4608, 0.5039,  ..., 0.5804, 0.5882, 0.5882]])\n",
      "tensor([ True, False, False,  True, False, False, False])\n",
      "6\n"
     ]
    },
    {
     "data": {
      "text/plain": [
       "Text(0.5, 1.0, '6')"
      ]
     },
     "execution_count": 26,
     "metadata": {},
     "output_type": "execute_result"
    },
    {
     "data": {
      "image/png": "[encoded data removed]",
      "text/plain": [
       "<Figure size 432x288 with 1 Axes>"
      ]
     },
     "metadata": {
      "needs_background": "light"
     },
     "output_type": "display_data"
    }
   ],
   "source": [
    "(im, features), label = train_set[0]\n",
    "print(im)\n",
    "print(features)\n",
    "print(label)\n",
    "plt.imshow(im.numpy(), cmap='gray')\n",
    "plt.title(label)"
   ]
  },
  {
   "cell_type": "code",
   "execution_count": 27,
   "id": "1c0c96c9",
   "metadata": {},
   "outputs": [],
   "source": [
    "class CNNClassifier(nn.Module):\n",
    "    def __init__(self, num_classes=10):\n",
    "        super(CNNClassifier, self).__init__()\n",
    "        \n",
    "        self.cnn_layer1 = nn.Sequential(nn.Conv2d(1, 16, kernel_size=3, padding='valid'),\n",
    "                                        nn.ReLU(),\n",
    "                                        nn.Dropout(0.1),\n",
    "                                        nn.BatchNorm2d(16),\n",
    "                                        nn.MaxPool2d(kernel_size=2))\n",
    "        self.cnn_layer2 = nn.Sequential(nn.Conv2d(16, 32, kernel_size=3, padding='valid'),\n",
    "                                        nn.ReLU(),\n",
    "                                        nn.Dropout(0.2),\n",
    "                                        nn.BatchNorm2d(32),\n",
    "                                        nn.MaxPool2d(kernel_size=2))\n",
    "        self.linear_layer1 = nn.Linear(32*30*3 + 7, 64)\n",
    "        self.dropout1 = nn.Dropout(0.5)\n",
    "        self.activ1 = nn.ReLU()\n",
    "        self.linear_layer_p = nn.Linear(64, 32)\n",
    "        self.dropout_p = nn.Dropout(0.5)\n",
    "        self.activ_p = nn.ReLU()\n",
    "        self.linear_layer2 = nn.Linear(32, num_classes)\n",
    "        \n",
    "    def forward(self, images, features):\n",
    "        images = images.unsqueeze(1)\n",
    "        \n",
    "        cnn1 = self.cnn_layer1(images)\n",
    "        cnn2 = self.cnn_layer2(cnn1)\n",
    "        cnn_vec = cnn2.reshape(cnn2.shape[0], -1)\n",
    "        cnn_cb = torch.cat((cnn_vec, features), dim=1)\n",
    "        out = self.linear_layer1(cnn_cb)\n",
    "        out = self.activ1(out)\n",
    "        out = self.dropout1(out)\n",
    "        out = self.linear_layer_p(out)\n",
    "        out = self.dropout_p(out)\n",
    "        out = self.activ_p(out)\n",
    "        out2 = self.linear_layer2(out)\n",
    "        return out2"
   ]
  },
  {
   "cell_type": "code",
   "execution_count": 32,
   "id": "4a27de62",
   "metadata": {},
   "outputs": [],
   "source": [
    "def eval_cnn_classifier(model, eval_dataloader):\n",
    "    model.eval() \n",
    "    with torch.no_grad():\n",
    "        correct = 0\n",
    "        total = 0\n",
    "        for (images, features), labels in eval_dataloader:\n",
    "            images = images.cuda()\n",
    "            features = features.cuda()\n",
    "            labels = labels.cuda()\n",
    "            y_predicted = model(images, features)\n",
    "            _, label_predicted = torch.max(y_predicted.data, 1)\n",
    "            total += labels.size(0)\n",
    "            correct += (label_predicted == labels).sum().item()\n",
    "    accuracy = 100 * correct / total\n",
    "    return accuracy\n",
    "\n",
    "def training_cnn_classifier(model, train_dataloader, num_epochs, loss_fn, learning_rate, verbose=True):\n",
    "    model_tr = copy.deepcopy(model)\n",
    "    model_tr.train()\n",
    "    optimizer = torch.optim.SGD(model_tr.parameters(), lr=learning_rate)\n",
    "    scheduler = ReduceLROnPlateau(optimizer, 'min')\n",
    "    loss_all_epochs = []\n",
    "    test_acc_all_epochs = []\n",
    "\n",
    "    if verbose:\n",
    "        print(f'Epoch [0/{num_epochs}], Loss: N/A, Test acc: {eval_cnn_classifier(model_tr, test_dataloader):.4f}%')\n",
    "    \n",
    "    total = len(train_dataloader)\n",
    "    for epoch in range(num_epochs):\n",
    "        loss_current_epoch = 0\n",
    "        for (images, features), labels in tqdm(train_dataloader, total=total):\n",
    "            images = images.cuda()\n",
    "            features = features.cuda()\n",
    "            labels = labels.cuda()\n",
    "            y_predicted = model_tr(images, features)\n",
    "            loss = loss_fn(y_predicted, labels)\n",
    "            optimizer.zero_grad()\n",
    "            loss.backward()\n",
    "            optimizer.step()\n",
    "            \n",
    "            loss_current_epoch += loss.item()\n",
    "        \n",
    "        loss_all_epochs.append(loss_current_epoch)\n",
    "        test_acc = eval_cnn_classifier(model_tr, test_dataloader)\n",
    "        test_acc_all_epochs.append(test_acc)\n",
    "        if verbose:\n",
    "            print(f'Epoch [{epoch+1}/{num_epochs}], Loss: {loss_current_epoch / total:.4f}, Test acc: {test_acc:.4f}%')\n",
    "        if test_acc > 94.9:\n",
    "            break\n",
    "        \n",
    "    return model_tr, loss_all_epochs, test_acc_all_epochs"
   ]
  },
  {
   "cell_type": "code",
   "execution_count": 34,
   "id": "8dbf874c",
   "metadata": {
    "scrolled": false
   },
   "outputs": [
    {
     "name": "stdout",
     "output_type": "stream",
     "text": [
      "Total number of parameters:  192138\n",
      "Epoch [0/15], Loss: N/A, Test acc: 10.4369%\n"
     ]
    },
    {
     "name": "stderr",
     "output_type": "stream",
     "text": [
      "100%|███████████████████████████████████████████████████████████████████████████████████████████████████████| 3559/3559 [00:08<00:00, 431.94it/s]\n"
     ]
    },
    {
     "name": "stdout",
     "output_type": "stream",
     "text": [
      "Epoch [1/15], Loss: 1.2807, Test acc: 78.8835%\n"
     ]
    },
    {
     "name": "stderr",
     "output_type": "stream",
     "text": [
      "100%|███████████████████████████████████████████████████████████████████████████████████████████████████████| 3559/3559 [00:07<00:00, 445.51it/s]\n"
     ]
    },
    {
     "name": "stdout",
     "output_type": "stream",
     "text": [
      "Epoch [2/15], Loss: 0.5761, Test acc: 87.1359%\n"
     ]
    },
    {
     "name": "stderr",
     "output_type": "stream",
     "text": [
      "100%|███████████████████████████████████████████████████████████████████████████████████████████████████████| 3559/3559 [00:07<00:00, 445.38it/s]\n"
     ]
    },
    {
     "name": "stdout",
     "output_type": "stream",
     "text": [
      "Epoch [3/15], Loss: 0.4271, Test acc: 89.8058%\n"
     ]
    },
    {
     "name": "stderr",
     "output_type": "stream",
     "text": [
      "100%|███████████████████████████████████████████████████████████████████████████████████████████████████████| 3559/3559 [00:07<00:00, 445.80it/s]\n"
     ]
    },
    {
     "name": "stdout",
     "output_type": "stream",
     "text": [
      "Epoch [4/15], Loss: 0.3157, Test acc: 85.4369%\n"
     ]
    },
    {
     "name": "stderr",
     "output_type": "stream",
     "text": [
      "100%|███████████████████████████████████████████████████████████████████████████████████████████████████████| 3559/3559 [00:08<00:00, 437.81it/s]\n"
     ]
    },
    {
     "name": "stdout",
     "output_type": "stream",
     "text": [
      "Epoch [5/15], Loss: 0.2659, Test acc: 90.0485%\n"
     ]
    },
    {
     "name": "stderr",
     "output_type": "stream",
     "text": [
      "100%|███████████████████████████████████████████████████████████████████████████████████████████████████████| 3559/3559 [00:07<00:00, 445.25it/s]\n"
     ]
    },
    {
     "name": "stdout",
     "output_type": "stream",
     "text": [
      "Epoch [6/15], Loss: 0.2121, Test acc: 92.7184%\n"
     ]
    },
    {
     "name": "stderr",
     "output_type": "stream",
     "text": [
      "100%|███████████████████████████████████████████████████████████████████████████████████████████████████████| 3559/3559 [00:09<00:00, 374.68it/s]\n"
     ]
    },
    {
     "name": "stdout",
     "output_type": "stream",
     "text": [
      "Epoch [7/15], Loss: 0.1608, Test acc: 92.7184%\n"
     ]
    },
    {
     "name": "stderr",
     "output_type": "stream",
     "text": [
      "100%|███████████████████████████████████████████████████████████████████████████████████████████████████████| 3559/3559 [00:08<00:00, 436.27it/s]\n"
     ]
    },
    {
     "name": "stdout",
     "output_type": "stream",
     "text": [
      "Epoch [8/15], Loss: 0.1354, Test acc: 93.6893%\n"
     ]
    },
    {
     "name": "stderr",
     "output_type": "stream",
     "text": [
      "100%|███████████████████████████████████████████████████████████████████████████████████████████████████████| 3559/3559 [00:08<00:00, 424.08it/s]\n"
     ]
    },
    {
     "name": "stdout",
     "output_type": "stream",
     "text": [
      "Epoch [9/15], Loss: 0.1319, Test acc: 95.1456%\n"
     ]
    },
    {
     "data": {
      "image/png": "[encoded data removed]",
      "text/plain": [
       "<Figure size 432x288 with 1 Axes>"
      ]
     },
     "metadata": {
      "needs_background": "light"
     },
     "output_type": "display_data"
    }
   ],
   "source": [
    "batch_size = 1\n",
    "train_dataloader = DataLoader(train_set, shuffle=True, batch_size=batch_size)\n",
    "test_dataloader = DataLoader(test_set, batch_size=batch_size)\n",
    "\n",
    "num_classes = 10\n",
    "model = CNNClassifier(num_classes)\n",
    "\n",
    "print('Total number of parameters: ', \n",
    "      sum(p.numel() for p in model.parameters()))\n",
    "\n",
    "torch.manual_seed(0)\n",
    "model.apply(init_weights)\n",
    "\n",
    "num_epochs = 15\n",
    "loss_fn = nn.CrossEntropyLoss()\n",
    "learning_rate = 0.01\n",
    "\n",
    "model.cuda()\n",
    "model, loss_total, test_acc_total = training_cnn_classifier(model, train_dataloader, num_epochs, loss_fn, learning_rate, verbose=True)\n",
    "\n",
    "torch.save(model, 'model_cnn_classif.pt')\n",
    "plt.plot(loss_total, label='loss')\n",
    "plt.plot([max(loss_total)*(100-x)/100 for x in test_acc_total], label='acc')\n",
    "plt.legend()\n",
    "plt.show()"
   ]
  },
  {
   "cell_type": "code",
   "execution_count": 30,
   "id": "f3090437",
   "metadata": {},
   "outputs": [
    {
     "name": "stdout",
     "output_type": "stream",
     "text": [
      "93.93203883495146\n"
     ]
    }
   ],
   "source": [
    "acc = eval_cnn_classifier(model, test_dataloader)\n",
    "print(acc)"
   ]
  },
  {
   "cell_type": "code",
   "execution_count": 31,
   "id": "9b001be9",
   "metadata": {
    "scrolled": false
   },
   "outputs": [
    {
     "name": "stdout",
     "output_type": "stream",
     "text": [
      "              precision    recall  f1-score   support\n",
      "\n",
      "           2     0.9688    0.7750    0.8611        40\n",
      "           9     0.7660    1.0000    0.8675        36\n",
      "           a     0.9783    0.9574    0.9677        47\n",
      "           E     0.9545    0.8400    0.8936        25\n",
      "           e     0.9077    0.9672    0.9365        61\n",
      "           i     1.0000    1.0000    1.0000        33\n",
      "           O     0.9574    1.0000    0.9783        45\n",
      "           o     0.9706    0.8919    0.9296        37\n",
      "           u     1.0000    0.9778    0.9888        45\n",
      "           y     0.9524    0.9302    0.9412        43\n",
      "\n",
      "    accuracy                         0.9393       412\n",
      "   macro avg     0.9456    0.9340    0.9364       412\n",
      "weighted avg     0.9454    0.9393    0.9393       412\n",
      "\n"
     ]
    },
    {
     "data": {
      "text/plain": [
       "<sklearn.metrics._plot.confusion_matrix.ConfusionMatrixDisplay at 0x7f73e317bd00>"
      ]
     },
     "execution_count": 31,
     "metadata": {},
     "output_type": "execute_result"
    },
    {
     "data": {
      "image/png": "[encoded data removed]",
      "text/plain": [
       "<Figure size 432x288 with 2 Axes>"
      ]
     },
     "metadata": {
      "needs_background": "light"
     },
     "output_type": "display_data"
    }
   ],
   "source": [
    "model.eval()\n",
    "y_pred = []\n",
    "y_true = []\n",
    "with torch.no_grad():\n",
    "    correct = 0\n",
    "    total = 0\n",
    "    for (images, features), labels in test_dataloader:\n",
    "        images = images.cuda()\n",
    "        features = features.cuda()\n",
    "        labels = labels.cuda()\n",
    "        y_predicted = model(images, features)\n",
    "        _, label_predicted = torch.max(y_predicted.data, 1)\n",
    "        y_pred.append(label_predicted.item())\n",
    "        y_true.append(labels.item())\n",
    "\n",
    "        \n",
    "from sklearn.metrics import classification_report, confusion_matrix, ConfusionMatrixDisplay\n",
    "target_names = ['2', '9', 'a', 'E', 'e', 'i', 'O', 'o', 'u', 'y']\n",
    "print(classification_report(y_true, y_pred, zero_division=0, digits=4, target_names=target_names))\n",
    "cm = confusion_matrix(y_true, y_pred)\n",
    "disp = ConfusionMatrixDisplay(confusion_matrix=cm, display_labels=target_names)\n",
    "disp.plot()"
   ]
  },
  {
   "cell_type": "code",
   "execution_count": null,
   "id": "3bf2d1fe",
   "metadata": {},
   "outputs": [],
   "source": []
  }
 ],
 "metadata": {
  "kernelspec": {
   "display_name": "Lambda Notebook (Python 3)",
   "language": "python",
   "name": "lambda-notebook"
  },
  "language_info": {
   "codemirror_mode": {
    "name": "ipython",
    "version": 3
   },
   "file_extension": ".py",
   "mimetype": "text/x-python",
   "name": "python",
   "nbconvert_exporter": "python",
   "pygments_lexer": "ipython3",
   "version": "3.10.6"
  }
 },
 "nbformat": 4,
 "nbformat_minor": 5
}
